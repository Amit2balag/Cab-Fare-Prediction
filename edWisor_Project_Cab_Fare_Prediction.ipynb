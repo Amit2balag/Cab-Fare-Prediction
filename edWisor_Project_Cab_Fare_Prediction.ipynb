{
  "nbformat": 4,
  "nbformat_minor": 0,
  "metadata": {
    "kernelspec": {
      "display_name": "Python 3",
      "language": "python",
      "name": "python3"
    },
    "language_info": {
      "codemirror_mode": {
        "name": "ipython",
        "version": 3
      },
      "file_extension": ".py",
      "mimetype": "text/x-python",
      "name": "python",
      "nbconvert_exporter": "python",
      "pygments_lexer": "ipython3",
      "version": "3.7.3"
    },
    "colab": {
      "name": "edWisor_Project_Cab_Fare_Prediction.ipynb",
      "provenance": [],
      "collapsed_sections": [
        "qlnWs521E8di",
        "wB5_ZXpQE8d2",
        "Uc7Sy6UQE8eG"
      ]
    }
  },
  "cells": [
    {
      "cell_type": "code",
      "metadata": {
        "id": "r_xMsVj-E8dP"
      },
      "source": [
        "#Importing required libraries\n",
        "import os #getting access to input files\n",
        "import pandas as pd # Importing pandas for performing EDA\n",
        "import numpy as np  # Importing numpy for Linear Algebric operations\n",
        "import matplotlib.pyplot as plt # Importing for Data Visualization\n",
        "import seaborn as sns # Importing for Data Visualization\n",
        "from collections import Counter \n",
        "from sklearn.tree import DecisionTreeRegressor\n",
        "from sklearn.ensemble import RandomForestRegressor\n",
        "from sklearn.ensemble import GradientBoostingRegressor\n",
        "from sklearn.linear_model import LinearRegression #ML algorithm\n",
        "from sklearn.model_selection import train_test_split #splitting dataset\n",
        "from sklearn.metrics import mean_squared_error\n",
        "from sklearn.metrics import r2_score\n",
        "from pprint import pprint\n",
        "from sklearn.model_selection import GridSearchCV    \n",
        "\n",
        "%matplotlib inline"
      ],
      "execution_count": null,
      "outputs": []
    },
    {
      "cell_type": "code",
      "metadata": {
        "colab": {
          "base_uri": "https://localhost:8080/"
        },
        "id": "5Jbq880kE8dR",
        "outputId": "85d71d7f-0cb4-47d5-e119-e14da2dc5a8b"
      },
      "source": [
        "from google.colab import drive\n",
        "drive.mount('/content/gdrive', force_remount=True)"
      ],
      "execution_count": null,
      "outputs": [
        {
          "output_type": "stream",
          "text": [
            "Mounted at /content/gdrive\n"
          ],
          "name": "stdout"
        }
      ]
    },
    {
      "cell_type": "code",
      "metadata": {
        "id": "it2BCQnkE8dT"
      },
      "source": [
        "#Loading the data:\n",
        "import pandas as pd\n",
        "train  = pd.read_csv(\"/content/gdrive/MyDrive/edWisor Project - 1/train_cab.csv\",na_values={\"pickup_datetime\":\"43\"})\n",
        "test   = pd.read_csv(\"/content/gdrive/MyDrive/edWisor Project - 1/test.csv\")"
      ],
      "execution_count": null,
      "outputs": []
    },
    {
      "cell_type": "markdown",
      "metadata": {
        "id": "PF1RSiKCE8dU"
      },
      "source": [
        "## Understanding the data :"
      ]
    },
    {
      "cell_type": "code",
      "metadata": {
        "colab": {
          "base_uri": "https://localhost:8080/",
          "height": 202
        },
        "id": "g_0V4CqWE8dV",
        "outputId": "5e9d2d52-4e79-439d-ac95-c458d643d38e"
      },
      "source": [
        "train.head() #checking first five rows of the training dataset"
      ],
      "execution_count": null,
      "outputs": [
        {
          "output_type": "execute_result",
          "data": {
            "text/html": [
              "<div>\n",
              "<style scoped>\n",
              "    .dataframe tbody tr th:only-of-type {\n",
              "        vertical-align: middle;\n",
              "    }\n",
              "\n",
              "    .dataframe tbody tr th {\n",
              "        vertical-align: top;\n",
              "    }\n",
              "\n",
              "    .dataframe thead th {\n",
              "        text-align: right;\n",
              "    }\n",
              "</style>\n",
              "<table border=\"1\" class=\"dataframe\">\n",
              "  <thead>\n",
              "    <tr style=\"text-align: right;\">\n",
              "      <th></th>\n",
              "      <th>fare_amount</th>\n",
              "      <th>pickup_datetime</th>\n",
              "      <th>pickup_longitude</th>\n",
              "      <th>pickup_latitude</th>\n",
              "      <th>dropoff_longitude</th>\n",
              "      <th>dropoff_latitude</th>\n",
              "      <th>passenger_count</th>\n",
              "    </tr>\n",
              "  </thead>\n",
              "  <tbody>\n",
              "    <tr>\n",
              "      <th>0</th>\n",
              "      <td>4.5</td>\n",
              "      <td>2009-06-15 17:26:21 UTC</td>\n",
              "      <td>-73.844311</td>\n",
              "      <td>40.721319</td>\n",
              "      <td>-73.841610</td>\n",
              "      <td>40.712278</td>\n",
              "      <td>1.0</td>\n",
              "    </tr>\n",
              "    <tr>\n",
              "      <th>1</th>\n",
              "      <td>16.9</td>\n",
              "      <td>2010-01-05 16:52:16 UTC</td>\n",
              "      <td>-74.016048</td>\n",
              "      <td>40.711303</td>\n",
              "      <td>-73.979268</td>\n",
              "      <td>40.782004</td>\n",
              "      <td>1.0</td>\n",
              "    </tr>\n",
              "    <tr>\n",
              "      <th>2</th>\n",
              "      <td>5.7</td>\n",
              "      <td>2011-08-18 00:35:00 UTC</td>\n",
              "      <td>-73.982738</td>\n",
              "      <td>40.761270</td>\n",
              "      <td>-73.991242</td>\n",
              "      <td>40.750562</td>\n",
              "      <td>2.0</td>\n",
              "    </tr>\n",
              "    <tr>\n",
              "      <th>3</th>\n",
              "      <td>7.7</td>\n",
              "      <td>2012-04-21 04:30:42 UTC</td>\n",
              "      <td>-73.987130</td>\n",
              "      <td>40.733143</td>\n",
              "      <td>-73.991567</td>\n",
              "      <td>40.758092</td>\n",
              "      <td>1.0</td>\n",
              "    </tr>\n",
              "    <tr>\n",
              "      <th>4</th>\n",
              "      <td>5.3</td>\n",
              "      <td>2010-03-09 07:51:00 UTC</td>\n",
              "      <td>-73.968095</td>\n",
              "      <td>40.768008</td>\n",
              "      <td>-73.956655</td>\n",
              "      <td>40.783762</td>\n",
              "      <td>1.0</td>\n",
              "    </tr>\n",
              "  </tbody>\n",
              "</table>\n",
              "</div>"
            ],
            "text/plain": [
              "  fare_amount          pickup_datetime  ...  dropoff_latitude  passenger_count\n",
              "0         4.5  2009-06-15 17:26:21 UTC  ...         40.712278              1.0\n",
              "1        16.9  2010-01-05 16:52:16 UTC  ...         40.782004              1.0\n",
              "2         5.7  2011-08-18 00:35:00 UTC  ...         40.750562              2.0\n",
              "3         7.7  2012-04-21 04:30:42 UTC  ...         40.758092              1.0\n",
              "4         5.3  2010-03-09 07:51:00 UTC  ...         40.783762              1.0\n",
              "\n",
              "[5 rows x 7 columns]"
            ]
          },
          "metadata": {
            "tags": []
          },
          "execution_count": 4
        }
      ]
    },
    {
      "cell_type": "code",
      "metadata": {
        "colab": {
          "base_uri": "https://localhost:8080/",
          "height": 202
        },
        "id": "iamQY9VOE8dW",
        "outputId": "ecf05bfe-b417-4ac1-8f6d-bc5826886ba3"
      },
      "source": [
        "test.head() #checking first five rows of the test dataset"
      ],
      "execution_count": null,
      "outputs": [
        {
          "output_type": "execute_result",
          "data": {
            "text/html": [
              "<div>\n",
              "<style scoped>\n",
              "    .dataframe tbody tr th:only-of-type {\n",
              "        vertical-align: middle;\n",
              "    }\n",
              "\n",
              "    .dataframe tbody tr th {\n",
              "        vertical-align: top;\n",
              "    }\n",
              "\n",
              "    .dataframe thead th {\n",
              "        text-align: right;\n",
              "    }\n",
              "</style>\n",
              "<table border=\"1\" class=\"dataframe\">\n",
              "  <thead>\n",
              "    <tr style=\"text-align: right;\">\n",
              "      <th></th>\n",
              "      <th>pickup_datetime</th>\n",
              "      <th>pickup_longitude</th>\n",
              "      <th>pickup_latitude</th>\n",
              "      <th>dropoff_longitude</th>\n",
              "      <th>dropoff_latitude</th>\n",
              "      <th>passenger_count</th>\n",
              "    </tr>\n",
              "  </thead>\n",
              "  <tbody>\n",
              "    <tr>\n",
              "      <th>0</th>\n",
              "      <td>2015-01-27 13:08:24 UTC</td>\n",
              "      <td>-73.973320</td>\n",
              "      <td>40.763805</td>\n",
              "      <td>-73.981430</td>\n",
              "      <td>40.743835</td>\n",
              "      <td>1</td>\n",
              "    </tr>\n",
              "    <tr>\n",
              "      <th>1</th>\n",
              "      <td>2015-01-27 13:08:24 UTC</td>\n",
              "      <td>-73.986862</td>\n",
              "      <td>40.719383</td>\n",
              "      <td>-73.998886</td>\n",
              "      <td>40.739201</td>\n",
              "      <td>1</td>\n",
              "    </tr>\n",
              "    <tr>\n",
              "      <th>2</th>\n",
              "      <td>2011-10-08 11:53:44 UTC</td>\n",
              "      <td>-73.982524</td>\n",
              "      <td>40.751260</td>\n",
              "      <td>-73.979654</td>\n",
              "      <td>40.746139</td>\n",
              "      <td>1</td>\n",
              "    </tr>\n",
              "    <tr>\n",
              "      <th>3</th>\n",
              "      <td>2012-12-01 21:12:12 UTC</td>\n",
              "      <td>-73.981160</td>\n",
              "      <td>40.767807</td>\n",
              "      <td>-73.990448</td>\n",
              "      <td>40.751635</td>\n",
              "      <td>1</td>\n",
              "    </tr>\n",
              "    <tr>\n",
              "      <th>4</th>\n",
              "      <td>2012-12-01 21:12:12 UTC</td>\n",
              "      <td>-73.966046</td>\n",
              "      <td>40.789775</td>\n",
              "      <td>-73.988565</td>\n",
              "      <td>40.744427</td>\n",
              "      <td>1</td>\n",
              "    </tr>\n",
              "  </tbody>\n",
              "</table>\n",
              "</div>"
            ],
            "text/plain": [
              "           pickup_datetime  pickup_longitude  ...  dropoff_latitude  passenger_count\n",
              "0  2015-01-27 13:08:24 UTC        -73.973320  ...         40.743835                1\n",
              "1  2015-01-27 13:08:24 UTC        -73.986862  ...         40.739201                1\n",
              "2  2011-10-08 11:53:44 UTC        -73.982524  ...         40.746139                1\n",
              "3  2012-12-01 21:12:12 UTC        -73.981160  ...         40.751635                1\n",
              "4  2012-12-01 21:12:12 UTC        -73.966046  ...         40.744427                1\n",
              "\n",
              "[5 rows x 6 columns]"
            ]
          },
          "metadata": {
            "tags": []
          },
          "execution_count": 5
        }
      ]
    },
    {
      "cell_type": "code",
      "metadata": {
        "colab": {
          "base_uri": "https://localhost:8080/"
        },
        "id": "D5Gfmt-0E8dX",
        "outputId": "b20a152a-6314-4641-fde3-0ce3dc6f1246"
      },
      "source": [
        "print(\"shape of training data is: \",train.shape) #checking the number of rows and columns in training data\n",
        "print(\"shape of test data is: \",test.shape) #checking the number of rows and columns in test data"
      ],
      "execution_count": null,
      "outputs": [
        {
          "output_type": "stream",
          "text": [
            "shape of training data is:  (16067, 7)\n",
            "shape of test data is:  (9914, 6)\n"
          ],
          "name": "stdout"
        }
      ]
    },
    {
      "cell_type": "code",
      "metadata": {
        "colab": {
          "base_uri": "https://localhost:8080/"
        },
        "id": "jhjqOX7KE8dY",
        "outputId": "1bd08ce1-05e2-4fbc-98fd-fe042613ce21"
      },
      "source": [
        "train.dtypes #checking the data-types in training dataset"
      ],
      "execution_count": null,
      "outputs": [
        {
          "output_type": "execute_result",
          "data": {
            "text/plain": [
              "fare_amount           object\n",
              "pickup_datetime       object\n",
              "pickup_longitude     float64\n",
              "pickup_latitude      float64\n",
              "dropoff_longitude    float64\n",
              "dropoff_latitude     float64\n",
              "passenger_count      float64\n",
              "dtype: object"
            ]
          },
          "metadata": {
            "tags": []
          },
          "execution_count": 7
        }
      ]
    },
    {
      "cell_type": "markdown",
      "metadata": {
        "id": "7k5KJTzwE8dZ"
      },
      "source": [
        "Here we can see pickup datetime and fare amount is of object type. So we need to change the data type of both."
      ]
    },
    {
      "cell_type": "code",
      "metadata": {
        "colab": {
          "base_uri": "https://localhost:8080/"
        },
        "id": "H1UL7fdQE8dZ",
        "outputId": "2a122992-d7e1-4b21-f934-9faf62bff6ac"
      },
      "source": [
        "test.dtypes #checking the data-types in test dataset"
      ],
      "execution_count": null,
      "outputs": [
        {
          "output_type": "execute_result",
          "data": {
            "text/plain": [
              "pickup_datetime       object\n",
              "pickup_longitude     float64\n",
              "pickup_latitude      float64\n",
              "dropoff_longitude    float64\n",
              "dropoff_latitude     float64\n",
              "passenger_count        int64\n",
              "dtype: object"
            ]
          },
          "metadata": {
            "tags": []
          },
          "execution_count": 8
        }
      ]
    },
    {
      "cell_type": "code",
      "metadata": {
        "colab": {
          "base_uri": "https://localhost:8080/",
          "height": 294
        },
        "id": "DjjK-qtIE8da",
        "outputId": "8c3ab6be-1a5f-41ab-dd37-629d697fdbdc"
      },
      "source": [
        "train.describe() "
      ],
      "execution_count": null,
      "outputs": [
        {
          "output_type": "execute_result",
          "data": {
            "text/html": [
              "<div>\n",
              "<style scoped>\n",
              "    .dataframe tbody tr th:only-of-type {\n",
              "        vertical-align: middle;\n",
              "    }\n",
              "\n",
              "    .dataframe tbody tr th {\n",
              "        vertical-align: top;\n",
              "    }\n",
              "\n",
              "    .dataframe thead th {\n",
              "        text-align: right;\n",
              "    }\n",
              "</style>\n",
              "<table border=\"1\" class=\"dataframe\">\n",
              "  <thead>\n",
              "    <tr style=\"text-align: right;\">\n",
              "      <th></th>\n",
              "      <th>pickup_longitude</th>\n",
              "      <th>pickup_latitude</th>\n",
              "      <th>dropoff_longitude</th>\n",
              "      <th>dropoff_latitude</th>\n",
              "      <th>passenger_count</th>\n",
              "    </tr>\n",
              "  </thead>\n",
              "  <tbody>\n",
              "    <tr>\n",
              "      <th>count</th>\n",
              "      <td>16067.000000</td>\n",
              "      <td>16067.000000</td>\n",
              "      <td>16067.000000</td>\n",
              "      <td>16067.000000</td>\n",
              "      <td>16012.000000</td>\n",
              "    </tr>\n",
              "    <tr>\n",
              "      <th>mean</th>\n",
              "      <td>-72.462787</td>\n",
              "      <td>39.914725</td>\n",
              "      <td>-72.462328</td>\n",
              "      <td>39.897906</td>\n",
              "      <td>2.625070</td>\n",
              "    </tr>\n",
              "    <tr>\n",
              "      <th>std</th>\n",
              "      <td>10.578384</td>\n",
              "      <td>6.826587</td>\n",
              "      <td>10.575062</td>\n",
              "      <td>6.187087</td>\n",
              "      <td>60.844122</td>\n",
              "    </tr>\n",
              "    <tr>\n",
              "      <th>min</th>\n",
              "      <td>-74.438233</td>\n",
              "      <td>-74.006893</td>\n",
              "      <td>-74.429332</td>\n",
              "      <td>-74.006377</td>\n",
              "      <td>0.000000</td>\n",
              "    </tr>\n",
              "    <tr>\n",
              "      <th>25%</th>\n",
              "      <td>-73.992156</td>\n",
              "      <td>40.734927</td>\n",
              "      <td>-73.991182</td>\n",
              "      <td>40.734651</td>\n",
              "      <td>1.000000</td>\n",
              "    </tr>\n",
              "    <tr>\n",
              "      <th>50%</th>\n",
              "      <td>-73.981698</td>\n",
              "      <td>40.752603</td>\n",
              "      <td>-73.980172</td>\n",
              "      <td>40.753567</td>\n",
              "      <td>1.000000</td>\n",
              "    </tr>\n",
              "    <tr>\n",
              "      <th>75%</th>\n",
              "      <td>-73.966838</td>\n",
              "      <td>40.767381</td>\n",
              "      <td>-73.963643</td>\n",
              "      <td>40.768013</td>\n",
              "      <td>2.000000</td>\n",
              "    </tr>\n",
              "    <tr>\n",
              "      <th>max</th>\n",
              "      <td>40.766125</td>\n",
              "      <td>401.083332</td>\n",
              "      <td>40.802437</td>\n",
              "      <td>41.366138</td>\n",
              "      <td>5345.000000</td>\n",
              "    </tr>\n",
              "  </tbody>\n",
              "</table>\n",
              "</div>"
            ],
            "text/plain": [
              "       pickup_longitude  pickup_latitude  ...  dropoff_latitude  passenger_count\n",
              "count      16067.000000     16067.000000  ...      16067.000000     16012.000000\n",
              "mean         -72.462787        39.914725  ...         39.897906         2.625070\n",
              "std           10.578384         6.826587  ...          6.187087        60.844122\n",
              "min          -74.438233       -74.006893  ...        -74.006377         0.000000\n",
              "25%          -73.992156        40.734927  ...         40.734651         1.000000\n",
              "50%          -73.981698        40.752603  ...         40.753567         1.000000\n",
              "75%          -73.966838        40.767381  ...         40.768013         2.000000\n",
              "max           40.766125       401.083332  ...         41.366138      5345.000000\n",
              "\n",
              "[8 rows x 5 columns]"
            ]
          },
          "metadata": {
            "tags": []
          },
          "execution_count": 9
        }
      ]
    },
    {
      "cell_type": "code",
      "metadata": {
        "colab": {
          "base_uri": "https://localhost:8080/",
          "height": 294
        },
        "id": "yv89hoKbE8db",
        "outputId": "49c5a4f9-b885-4127-cc37-9478f7867e0d"
      },
      "source": [
        "test.describe()"
      ],
      "execution_count": null,
      "outputs": [
        {
          "output_type": "execute_result",
          "data": {
            "text/html": [
              "<div>\n",
              "<style scoped>\n",
              "    .dataframe tbody tr th:only-of-type {\n",
              "        vertical-align: middle;\n",
              "    }\n",
              "\n",
              "    .dataframe tbody tr th {\n",
              "        vertical-align: top;\n",
              "    }\n",
              "\n",
              "    .dataframe thead th {\n",
              "        text-align: right;\n",
              "    }\n",
              "</style>\n",
              "<table border=\"1\" class=\"dataframe\">\n",
              "  <thead>\n",
              "    <tr style=\"text-align: right;\">\n",
              "      <th></th>\n",
              "      <th>pickup_longitude</th>\n",
              "      <th>pickup_latitude</th>\n",
              "      <th>dropoff_longitude</th>\n",
              "      <th>dropoff_latitude</th>\n",
              "      <th>passenger_count</th>\n",
              "    </tr>\n",
              "  </thead>\n",
              "  <tbody>\n",
              "    <tr>\n",
              "      <th>count</th>\n",
              "      <td>9914.000000</td>\n",
              "      <td>9914.000000</td>\n",
              "      <td>9914.000000</td>\n",
              "      <td>9914.000000</td>\n",
              "      <td>9914.000000</td>\n",
              "    </tr>\n",
              "    <tr>\n",
              "      <th>mean</th>\n",
              "      <td>-73.974722</td>\n",
              "      <td>40.751041</td>\n",
              "      <td>-73.973657</td>\n",
              "      <td>40.751743</td>\n",
              "      <td>1.671273</td>\n",
              "    </tr>\n",
              "    <tr>\n",
              "      <th>std</th>\n",
              "      <td>0.042774</td>\n",
              "      <td>0.033541</td>\n",
              "      <td>0.039072</td>\n",
              "      <td>0.035435</td>\n",
              "      <td>1.278747</td>\n",
              "    </tr>\n",
              "    <tr>\n",
              "      <th>min</th>\n",
              "      <td>-74.252193</td>\n",
              "      <td>40.573143</td>\n",
              "      <td>-74.263242</td>\n",
              "      <td>40.568973</td>\n",
              "      <td>1.000000</td>\n",
              "    </tr>\n",
              "    <tr>\n",
              "      <th>25%</th>\n",
              "      <td>-73.992501</td>\n",
              "      <td>40.736125</td>\n",
              "      <td>-73.991247</td>\n",
              "      <td>40.735254</td>\n",
              "      <td>1.000000</td>\n",
              "    </tr>\n",
              "    <tr>\n",
              "      <th>50%</th>\n",
              "      <td>-73.982326</td>\n",
              "      <td>40.753051</td>\n",
              "      <td>-73.980015</td>\n",
              "      <td>40.754065</td>\n",
              "      <td>1.000000</td>\n",
              "    </tr>\n",
              "    <tr>\n",
              "      <th>75%</th>\n",
              "      <td>-73.968013</td>\n",
              "      <td>40.767113</td>\n",
              "      <td>-73.964059</td>\n",
              "      <td>40.768757</td>\n",
              "      <td>2.000000</td>\n",
              "    </tr>\n",
              "    <tr>\n",
              "      <th>max</th>\n",
              "      <td>-72.986532</td>\n",
              "      <td>41.709555</td>\n",
              "      <td>-72.990963</td>\n",
              "      <td>41.696683</td>\n",
              "      <td>6.000000</td>\n",
              "    </tr>\n",
              "  </tbody>\n",
              "</table>\n",
              "</div>"
            ],
            "text/plain": [
              "       pickup_longitude  pickup_latitude  ...  dropoff_latitude  passenger_count\n",
              "count       9914.000000      9914.000000  ...       9914.000000      9914.000000\n",
              "mean         -73.974722        40.751041  ...         40.751743         1.671273\n",
              "std            0.042774         0.033541  ...          0.035435         1.278747\n",
              "min          -74.252193        40.573143  ...         40.568973         1.000000\n",
              "25%          -73.992501        40.736125  ...         40.735254         1.000000\n",
              "50%          -73.982326        40.753051  ...         40.754065         1.000000\n",
              "75%          -73.968013        40.767113  ...         40.768757         2.000000\n",
              "max          -72.986532        41.709555  ...         41.696683         6.000000\n",
              "\n",
              "[8 rows x 5 columns]"
            ]
          },
          "metadata": {
            "tags": []
          },
          "execution_count": 10
        }
      ]
    },
    {
      "cell_type": "markdown",
      "metadata": {
        "id": "M36d3-2kE8db"
      },
      "source": [
        "## Data Cleaning & Missing Value Analysis :"
      ]
    },
    {
      "cell_type": "code",
      "metadata": {
        "id": "WA8nYXxLE8dc"
      },
      "source": [
        "#Convert fare_amount from object to numeric\n",
        "train[\"fare_amount\"] = pd.to_numeric(train[\"fare_amount\"],errors = \"coerce\")  #Using errors=’coerce’. It will replace all non-numeric values with NaN."
      ],
      "execution_count": null,
      "outputs": []
    },
    {
      "cell_type": "code",
      "metadata": {
        "colab": {
          "base_uri": "https://localhost:8080/"
        },
        "id": "HePwxvOZE8dd",
        "outputId": "af55888e-bf8a-4f83-a232-f88456a8c058"
      },
      "source": [
        "train.dtypes"
      ],
      "execution_count": null,
      "outputs": [
        {
          "output_type": "execute_result",
          "data": {
            "text/plain": [
              "fare_amount          float64\n",
              "pickup_datetime       object\n",
              "pickup_longitude     float64\n",
              "pickup_latitude      float64\n",
              "dropoff_longitude    float64\n",
              "dropoff_latitude     float64\n",
              "passenger_count      float64\n",
              "dtype: object"
            ]
          },
          "metadata": {
            "tags": []
          },
          "execution_count": 12
        }
      ]
    },
    {
      "cell_type": "code",
      "metadata": {
        "colab": {
          "base_uri": "https://localhost:8080/"
        },
        "id": "o-m7Kb3nE8de",
        "outputId": "5a5501d3-ecef-4b60-cb09-ff4b46a2407d"
      },
      "source": [
        "train.shape"
      ],
      "execution_count": null,
      "outputs": [
        {
          "output_type": "execute_result",
          "data": {
            "text/plain": [
              "(16067, 7)"
            ]
          },
          "metadata": {
            "tags": []
          },
          "execution_count": 13
        }
      ]
    },
    {
      "cell_type": "code",
      "metadata": {
        "colab": {
          "base_uri": "https://localhost:8080/",
          "height": 416
        },
        "id": "c70G4cJAE8de",
        "outputId": "55382f4e-197d-49f2-d0ff-b9225c3536ca"
      },
      "source": [
        "train.dropna(subset= [\"pickup_datetime\"])   #dropping NA values in datetime column"
      ],
      "execution_count": null,
      "outputs": [
        {
          "output_type": "execute_result",
          "data": {
            "text/html": [
              "<div>\n",
              "<style scoped>\n",
              "    .dataframe tbody tr th:only-of-type {\n",
              "        vertical-align: middle;\n",
              "    }\n",
              "\n",
              "    .dataframe tbody tr th {\n",
              "        vertical-align: top;\n",
              "    }\n",
              "\n",
              "    .dataframe thead th {\n",
              "        text-align: right;\n",
              "    }\n",
              "</style>\n",
              "<table border=\"1\" class=\"dataframe\">\n",
              "  <thead>\n",
              "    <tr style=\"text-align: right;\">\n",
              "      <th></th>\n",
              "      <th>fare_amount</th>\n",
              "      <th>pickup_datetime</th>\n",
              "      <th>pickup_longitude</th>\n",
              "      <th>pickup_latitude</th>\n",
              "      <th>dropoff_longitude</th>\n",
              "      <th>dropoff_latitude</th>\n",
              "      <th>passenger_count</th>\n",
              "    </tr>\n",
              "  </thead>\n",
              "  <tbody>\n",
              "    <tr>\n",
              "      <th>0</th>\n",
              "      <td>4.5</td>\n",
              "      <td>2009-06-15 17:26:21 UTC</td>\n",
              "      <td>-73.844311</td>\n",
              "      <td>40.721319</td>\n",
              "      <td>-73.841610</td>\n",
              "      <td>40.712278</td>\n",
              "      <td>1.0</td>\n",
              "    </tr>\n",
              "    <tr>\n",
              "      <th>1</th>\n",
              "      <td>16.9</td>\n",
              "      <td>2010-01-05 16:52:16 UTC</td>\n",
              "      <td>-74.016048</td>\n",
              "      <td>40.711303</td>\n",
              "      <td>-73.979268</td>\n",
              "      <td>40.782004</td>\n",
              "      <td>1.0</td>\n",
              "    </tr>\n",
              "    <tr>\n",
              "      <th>2</th>\n",
              "      <td>5.7</td>\n",
              "      <td>2011-08-18 00:35:00 UTC</td>\n",
              "      <td>-73.982738</td>\n",
              "      <td>40.761270</td>\n",
              "      <td>-73.991242</td>\n",
              "      <td>40.750562</td>\n",
              "      <td>2.0</td>\n",
              "    </tr>\n",
              "    <tr>\n",
              "      <th>3</th>\n",
              "      <td>7.7</td>\n",
              "      <td>2012-04-21 04:30:42 UTC</td>\n",
              "      <td>-73.987130</td>\n",
              "      <td>40.733143</td>\n",
              "      <td>-73.991567</td>\n",
              "      <td>40.758092</td>\n",
              "      <td>1.0</td>\n",
              "    </tr>\n",
              "    <tr>\n",
              "      <th>4</th>\n",
              "      <td>5.3</td>\n",
              "      <td>2010-03-09 07:51:00 UTC</td>\n",
              "      <td>-73.968095</td>\n",
              "      <td>40.768008</td>\n",
              "      <td>-73.956655</td>\n",
              "      <td>40.783762</td>\n",
              "      <td>1.0</td>\n",
              "    </tr>\n",
              "    <tr>\n",
              "      <th>...</th>\n",
              "      <td>...</td>\n",
              "      <td>...</td>\n",
              "      <td>...</td>\n",
              "      <td>...</td>\n",
              "      <td>...</td>\n",
              "      <td>...</td>\n",
              "      <td>...</td>\n",
              "    </tr>\n",
              "    <tr>\n",
              "      <th>16062</th>\n",
              "      <td>6.5</td>\n",
              "      <td>2014-12-12 07:41:00 UTC</td>\n",
              "      <td>-74.008820</td>\n",
              "      <td>40.718757</td>\n",
              "      <td>-73.998865</td>\n",
              "      <td>40.719987</td>\n",
              "      <td>1.0</td>\n",
              "    </tr>\n",
              "    <tr>\n",
              "      <th>16063</th>\n",
              "      <td>16.1</td>\n",
              "      <td>2009-07-13 07:58:00 UTC</td>\n",
              "      <td>-73.981310</td>\n",
              "      <td>40.781695</td>\n",
              "      <td>-74.014392</td>\n",
              "      <td>40.715527</td>\n",
              "      <td>2.0</td>\n",
              "    </tr>\n",
              "    <tr>\n",
              "      <th>16064</th>\n",
              "      <td>8.5</td>\n",
              "      <td>2009-11-11 11:19:07 UTC</td>\n",
              "      <td>-73.972507</td>\n",
              "      <td>40.753417</td>\n",
              "      <td>-73.979577</td>\n",
              "      <td>40.765495</td>\n",
              "      <td>1.0</td>\n",
              "    </tr>\n",
              "    <tr>\n",
              "      <th>16065</th>\n",
              "      <td>8.1</td>\n",
              "      <td>2010-05-11 23:53:00 UTC</td>\n",
              "      <td>-73.957027</td>\n",
              "      <td>40.765945</td>\n",
              "      <td>-73.981983</td>\n",
              "      <td>40.779560</td>\n",
              "      <td>1.0</td>\n",
              "    </tr>\n",
              "    <tr>\n",
              "      <th>16066</th>\n",
              "      <td>8.5</td>\n",
              "      <td>2011-12-14 06:24:33 UTC</td>\n",
              "      <td>-74.002111</td>\n",
              "      <td>40.729755</td>\n",
              "      <td>-73.983877</td>\n",
              "      <td>40.761975</td>\n",
              "      <td>NaN</td>\n",
              "    </tr>\n",
              "  </tbody>\n",
              "</table>\n",
              "<p>16066 rows × 7 columns</p>\n",
              "</div>"
            ],
            "text/plain": [
              "       fare_amount          pickup_datetime  ...  dropoff_latitude  passenger_count\n",
              "0              4.5  2009-06-15 17:26:21 UTC  ...         40.712278              1.0\n",
              "1             16.9  2010-01-05 16:52:16 UTC  ...         40.782004              1.0\n",
              "2              5.7  2011-08-18 00:35:00 UTC  ...         40.750562              2.0\n",
              "3              7.7  2012-04-21 04:30:42 UTC  ...         40.758092              1.0\n",
              "4              5.3  2010-03-09 07:51:00 UTC  ...         40.783762              1.0\n",
              "...            ...                      ...  ...               ...              ...\n",
              "16062          6.5  2014-12-12 07:41:00 UTC  ...         40.719987              1.0\n",
              "16063         16.1  2009-07-13 07:58:00 UTC  ...         40.715527              2.0\n",
              "16064          8.5  2009-11-11 11:19:07 UTC  ...         40.765495              1.0\n",
              "16065          8.1  2010-05-11 23:53:00 UTC  ...         40.779560              1.0\n",
              "16066          8.5  2011-12-14 06:24:33 UTC  ...         40.761975              NaN\n",
              "\n",
              "[16066 rows x 7 columns]"
            ]
          },
          "metadata": {
            "tags": []
          },
          "execution_count": 14
        }
      ]
    },
    {
      "cell_type": "code",
      "metadata": {
        "id": "I65Eq09ZE8df"
      },
      "source": [
        "# Here pickup_datetime variable is in object so we need to change its data type to datetime\n",
        "train['pickup_datetime'] =  pd.to_datetime(train['pickup_datetime'], format='%Y-%m-%d %H:%M:%S UTC')"
      ],
      "execution_count": null,
      "outputs": []
    },
    {
      "cell_type": "code",
      "metadata": {
        "id": "r8FneECBE8dg"
      },
      "source": [
        "### we will saperate the Pickup_datetime column into separate field like year, month, day of the week, etc\n",
        "\n",
        "train['year'] = train['pickup_datetime'].dt.year\n",
        "train['Month'] = train['pickup_datetime'].dt.month\n",
        "train['Date'] = train['pickup_datetime'].dt.day\n",
        "train['Day'] = train['pickup_datetime'].dt.dayofweek\n",
        "train['Hour'] = train['pickup_datetime'].dt.hour\n",
        "train['Minute'] = train['pickup_datetime'].dt.minute"
      ],
      "execution_count": null,
      "outputs": []
    },
    {
      "cell_type": "code",
      "metadata": {
        "colab": {
          "base_uri": "https://localhost:8080/"
        },
        "id": "sWDyWQ3DE8dg",
        "outputId": "facdd5e6-40cd-440c-eddf-b18ece4cbda5"
      },
      "source": [
        "train.dtypes #Re-checking datatypes after conversion"
      ],
      "execution_count": null,
      "outputs": [
        {
          "output_type": "execute_result",
          "data": {
            "text/plain": [
              "fare_amount                 float64\n",
              "pickup_datetime      datetime64[ns]\n",
              "pickup_longitude            float64\n",
              "pickup_latitude             float64\n",
              "dropoff_longitude           float64\n",
              "dropoff_latitude            float64\n",
              "passenger_count             float64\n",
              "year                        float64\n",
              "Month                       float64\n",
              "Date                        float64\n",
              "Day                         float64\n",
              "Hour                        float64\n",
              "Minute                      float64\n",
              "dtype: object"
            ]
          },
          "metadata": {
            "tags": []
          },
          "execution_count": 17
        }
      ]
    },
    {
      "cell_type": "code",
      "metadata": {
        "id": "A7pScTPeE8dh"
      },
      "source": [
        "test[\"pickup_datetime\"] = pd.to_datetime(test[\"pickup_datetime\"],format= \"%Y-%m-%d %H:%M:%S UTC\")"
      ],
      "execution_count": null,
      "outputs": []
    },
    {
      "cell_type": "code",
      "metadata": {
        "id": "DaEHObMwE8dh"
      },
      "source": [
        "### we will saperate the Pickup_datetime column into separate field like year, month, day of the week, etc\n",
        "\n",
        "test['year'] = test['pickup_datetime'].dt.year\n",
        "test['Month'] = test['pickup_datetime'].dt.month\n",
        "test['Date'] = test['pickup_datetime'].dt.day\n",
        "test['Day'] = test['pickup_datetime'].dt.dayofweek\n",
        "test['Hour'] = test['pickup_datetime'].dt.hour\n",
        "test['Minute'] = test['pickup_datetime'].dt.minute"
      ],
      "execution_count": null,
      "outputs": []
    },
    {
      "cell_type": "code",
      "metadata": {
        "colab": {
          "base_uri": "https://localhost:8080/"
        },
        "id": "t2yb3wMWE8di",
        "outputId": "b205b0ed-4a45-4dd6-896d-c9afcbf37eab"
      },
      "source": [
        "test.dtypes #Re-checking test datatypes after conversion"
      ],
      "execution_count": null,
      "outputs": [
        {
          "output_type": "execute_result",
          "data": {
            "text/plain": [
              "pickup_datetime      datetime64[ns]\n",
              "pickup_longitude            float64\n",
              "pickup_latitude             float64\n",
              "dropoff_longitude           float64\n",
              "dropoff_latitude            float64\n",
              "passenger_count               int64\n",
              "year                          int64\n",
              "Month                         int64\n",
              "Date                          int64\n",
              "Day                           int64\n",
              "Hour                          int64\n",
              "Minute                        int64\n",
              "dtype: object"
            ]
          },
          "metadata": {
            "tags": []
          },
          "execution_count": 20
        }
      ]
    },
    {
      "cell_type": "markdown",
      "metadata": {
        "id": "qlnWs521E8di"
      },
      "source": [
        "#### Observations :\n",
        "\n",
        "1. An outlier in pickup_datetime column of value 43\n",
        "2. Passenger count should not exceed 6(even if we consider SUV)\n",
        "3. Latitudes range from -90 to 90. Longitudes range from -180 to 180\n",
        "4. Few missing values and High values of fare and Passenger count are present. So, decided to remove them."
      ]
    },
    {
      "cell_type": "markdown",
      "metadata": {
        "id": "SFm_N0lQE8dj"
      },
      "source": [
        "Checking the Datetime Variable : "
      ]
    },
    {
      "cell_type": "code",
      "metadata": {
        "colab": {
          "base_uri": "https://localhost:8080/"
        },
        "id": "JV9qLHxzE8dj",
        "outputId": "cdce1b61-bd29-4525-fbc4-63498a14e0f1"
      },
      "source": [
        "#removing datetime missing values rows\n",
        "train = train.drop(train[train['pickup_datetime'].isnull()].index, axis=0)\n",
        "print(train.shape)\n",
        "print(train['pickup_datetime'].isnull().sum())"
      ],
      "execution_count": null,
      "outputs": [
        {
          "output_type": "stream",
          "text": [
            "(16066, 13)\n",
            "0\n"
          ],
          "name": "stdout"
        }
      ]
    },
    {
      "cell_type": "markdown",
      "metadata": {
        "id": "6_qq-gz0E8dk"
      },
      "source": [
        "Checking the passenger count variable : "
      ]
    },
    {
      "cell_type": "code",
      "metadata": {
        "colab": {
          "base_uri": "https://localhost:8080/"
        },
        "id": "cAbRrWYvE8dl",
        "outputId": "5d9e4a1d-4716-49fc-f601-cc65dbfb3d07"
      },
      "source": [
        "train[\"passenger_count\"].describe()"
      ],
      "execution_count": null,
      "outputs": [
        {
          "output_type": "execute_result",
          "data": {
            "text/plain": [
              "count    16011.000000\n",
              "mean         2.625171\n",
              "std         60.846021\n",
              "min          0.000000\n",
              "25%          1.000000\n",
              "50%          1.000000\n",
              "75%          2.000000\n",
              "max       5345.000000\n",
              "Name: passenger_count, dtype: float64"
            ]
          },
          "metadata": {
            "tags": []
          },
          "execution_count": 22
        }
      ]
    },
    {
      "cell_type": "markdown",
      "metadata": {
        "id": "hr5Hq34LE8dl"
      },
      "source": [
        "We can see maximum number of passanger count is 5345 which is actually not possible. So reducing the passenger count to 6 (even if we consider the SUV)"
      ]
    },
    {
      "cell_type": "code",
      "metadata": {
        "id": "lK9NymFeE8dm"
      },
      "source": [
        "train = train.drop(train[train[\"passenger_count\"]> 6 ].index, axis=0)"
      ],
      "execution_count": null,
      "outputs": []
    },
    {
      "cell_type": "code",
      "metadata": {
        "id": "hLyZQsSIE8dm"
      },
      "source": [
        "#Also removing the values with passenger count of 0.\n",
        "train = train.drop(train[train[\"passenger_count\"] == 0 ].index, axis=0)"
      ],
      "execution_count": null,
      "outputs": []
    },
    {
      "cell_type": "code",
      "metadata": {
        "colab": {
          "base_uri": "https://localhost:8080/"
        },
        "id": "-y-TZaA1E8dn",
        "outputId": "ecad89ae-2e7b-4928-eb0d-f7483258ee78"
      },
      "source": [
        "train[\"passenger_count\"].describe()"
      ],
      "execution_count": null,
      "outputs": [
        {
          "output_type": "execute_result",
          "data": {
            "text/plain": [
              "count    15934.000000\n",
              "mean         1.649581\n",
              "std          1.265943\n",
              "min          0.120000\n",
              "25%          1.000000\n",
              "50%          1.000000\n",
              "75%          2.000000\n",
              "max          6.000000\n",
              "Name: passenger_count, dtype: float64"
            ]
          },
          "metadata": {
            "tags": []
          },
          "execution_count": 25
        }
      ]
    },
    {
      "cell_type": "code",
      "metadata": {
        "colab": {
          "base_uri": "https://localhost:8080/"
        },
        "id": "LOzlvpYBE8dn",
        "outputId": "a2834b8c-3ef9-47cf-d81e-50d06970d2a5"
      },
      "source": [
        "train[\"passenger_count\"].sort_values(ascending= True)"
      ],
      "execution_count": null,
      "outputs": [
        {
          "output_type": "execute_result",
          "data": {
            "text/plain": [
              "8862     0.12\n",
              "0        1.00\n",
              "9790     1.00\n",
              "9791     1.00\n",
              "9792     1.00\n",
              "         ... \n",
              "8076      NaN\n",
              "8139      NaN\n",
              "8259      NaN\n",
              "8306      NaN\n",
              "16066     NaN\n",
              "Name: passenger_count, Length: 15989, dtype: float64"
            ]
          },
          "metadata": {
            "tags": []
          },
          "execution_count": 26
        }
      ]
    },
    {
      "cell_type": "code",
      "metadata": {
        "colab": {
          "base_uri": "https://localhost:8080/"
        },
        "id": "KkEo2SqBE8do",
        "outputId": "304e2693-36a5-4d8f-ccfa-8b94a4486f2c"
      },
      "source": [
        "#removing passanger_count missing values rows\n",
        "train = train.drop(train[train['passenger_count'].isnull()].index, axis=0)\n",
        "print(train.shape)\n",
        "print(train['passenger_count'].isnull().sum())"
      ],
      "execution_count": null,
      "outputs": [
        {
          "output_type": "stream",
          "text": [
            "(15934, 13)\n",
            "0\n"
          ],
          "name": "stdout"
        }
      ]
    },
    {
      "cell_type": "markdown",
      "metadata": {
        "id": "rZ_9Kk2YE8do"
      },
      "source": [
        "There is one passenger count value of 0.12 which is not possible. Hence we will remove fractional passenger value"
      ]
    },
    {
      "cell_type": "code",
      "metadata": {
        "colab": {
          "base_uri": "https://localhost:8080/"
        },
        "id": "iciNGbyUE8dp",
        "outputId": "33b4babc-cca5-4e9d-dde1-6045fe56ab68"
      },
      "source": [
        "train = train.drop(train[train[\"passenger_count\"] == 0.12 ].index, axis=0)\n",
        "train.shape"
      ],
      "execution_count": null,
      "outputs": [
        {
          "output_type": "execute_result",
          "data": {
            "text/plain": [
              "(15933, 13)"
            ]
          },
          "metadata": {
            "tags": []
          },
          "execution_count": 28
        }
      ]
    },
    {
      "cell_type": "markdown",
      "metadata": {
        "id": "tLC68KWIE8dp"
      },
      "source": [
        "Next checking the Fare Amount variable :"
      ]
    },
    {
      "cell_type": "code",
      "metadata": {
        "colab": {
          "base_uri": "https://localhost:8080/"
        },
        "id": "wsdaSV6CE8dq",
        "outputId": "2a7725f4-5b8c-41d5-8917-60b1efb00932"
      },
      "source": [
        "##finding decending order of fare to get to know whether the outliers are present or not\n",
        "train[\"fare_amount\"].sort_values(ascending=False)"
      ],
      "execution_count": null,
      "outputs": [
        {
          "output_type": "execute_result",
          "data": {
            "text/plain": [
              "1015    54343.0\n",
              "1072     4343.0\n",
              "607       453.0\n",
              "980       434.0\n",
              "1335      180.0\n",
              "         ...   \n",
              "1712        NaN\n",
              "2412        NaN\n",
              "2458        NaN\n",
              "8178        NaN\n",
              "8226        NaN\n",
              "Name: fare_amount, Length: 15933, dtype: float64"
            ]
          },
          "metadata": {
            "tags": []
          },
          "execution_count": 29
        }
      ]
    },
    {
      "cell_type": "code",
      "metadata": {
        "colab": {
          "base_uri": "https://localhost:8080/"
        },
        "id": "3umLD94QE8dq",
        "outputId": "c1b41265-e639-4125-bc85-66029c939194"
      },
      "source": [
        "Counter(train[\"fare_amount\"]<0)"
      ],
      "execution_count": null,
      "outputs": [
        {
          "output_type": "execute_result",
          "data": {
            "text/plain": [
              "Counter({False: 15930, True: 3})"
            ]
          },
          "metadata": {
            "tags": []
          },
          "execution_count": 30
        }
      ]
    },
    {
      "cell_type": "code",
      "metadata": {
        "colab": {
          "base_uri": "https://localhost:8080/"
        },
        "id": "ae6FDjS1E8dr",
        "outputId": "b8569f7e-429b-478d-f869-fb9b46c49867"
      },
      "source": [
        "train = train.drop(train[train[\"fare_amount\"]<0].index, axis=0)\n",
        "train.shape"
      ],
      "execution_count": null,
      "outputs": [
        {
          "output_type": "execute_result",
          "data": {
            "text/plain": [
              "(15930, 13)"
            ]
          },
          "metadata": {
            "tags": []
          },
          "execution_count": 31
        }
      ]
    },
    {
      "cell_type": "code",
      "metadata": {
        "colab": {
          "base_uri": "https://localhost:8080/"
        },
        "id": "t60d2l6zE8dr",
        "outputId": "7b280fff-9e5a-4c69-f348-984be277275c"
      },
      "source": [
        "##make sure there is no negative values in the fare_amount variable column\n",
        "train[\"fare_amount\"].min()"
      ],
      "execution_count": null,
      "outputs": [
        {
          "output_type": "execute_result",
          "data": {
            "text/plain": [
              "0.0"
            ]
          },
          "metadata": {
            "tags": []
          },
          "execution_count": 32
        }
      ]
    },
    {
      "cell_type": "code",
      "metadata": {
        "colab": {
          "base_uri": "https://localhost:8080/"
        },
        "id": "fFbHDHTGE8ds",
        "outputId": "220dcc8e-a11a-4c75-ff0d-de5d857b11d2"
      },
      "source": [
        "#Also remove the row where fare amount is zero\n",
        "train = train.drop(train[train[\"fare_amount\"]<1].index, axis=0)\n",
        "train.shape"
      ],
      "execution_count": null,
      "outputs": [
        {
          "output_type": "execute_result",
          "data": {
            "text/plain": [
              "(15928, 13)"
            ]
          },
          "metadata": {
            "tags": []
          },
          "execution_count": 33
        }
      ]
    },
    {
      "cell_type": "code",
      "metadata": {
        "colab": {
          "base_uri": "https://localhost:8080/"
        },
        "id": "kTeFT62zE8dt",
        "outputId": "e872b162-60a5-47c9-f2aa-f0fd4492b70d"
      },
      "source": [
        "#Now we can see that there is a huge difference in 1st 2nd and 3rd position in decending order of fare amount\n",
        "# so we will remove the rows having fare amounting more that 454 as considering them as outliers\n",
        "\n",
        "train = train.drop(train[train[\"fare_amount\"]> 454 ].index, axis=0)\n",
        "train.shape"
      ],
      "execution_count": null,
      "outputs": [
        {
          "output_type": "execute_result",
          "data": {
            "text/plain": [
              "(15926, 13)"
            ]
          },
          "metadata": {
            "tags": []
          },
          "execution_count": 34
        }
      ]
    },
    {
      "cell_type": "code",
      "metadata": {
        "colab": {
          "base_uri": "https://localhost:8080/"
        },
        "id": "rIq-ScYdE8du",
        "outputId": "bc326cc0-ea00-45f2-8ae4-1316dff62d32"
      },
      "source": [
        "# eliminating rows for which value of \"fare_amount\" is missing\n",
        "train = train.drop(train[train['fare_amount'].isnull()].index, axis=0)\n",
        "print(train.shape)\n",
        "print(train['fare_amount'].isnull().sum())"
      ],
      "execution_count": null,
      "outputs": [
        {
          "output_type": "stream",
          "text": [
            "(15902, 13)\n",
            "0\n"
          ],
          "name": "stdout"
        }
      ]
    },
    {
      "cell_type": "code",
      "metadata": {
        "colab": {
          "base_uri": "https://localhost:8080/"
        },
        "id": "znNRYqSgE8dv",
        "outputId": "a428883a-997a-4972-dc32-2a046c207aa7"
      },
      "source": [
        "train[\"fare_amount\"].describe()"
      ],
      "execution_count": null,
      "outputs": [
        {
          "output_type": "execute_result",
          "data": {
            "text/plain": [
              "count    15902.000000\n",
              "mean        11.376356\n",
              "std         10.814908\n",
              "min          1.140000\n",
              "25%          6.000000\n",
              "50%          8.500000\n",
              "75%         12.500000\n",
              "max        453.000000\n",
              "Name: fare_amount, dtype: float64"
            ]
          },
          "metadata": {
            "tags": []
          },
          "execution_count": 36
        }
      ]
    },
    {
      "cell_type": "markdown",
      "metadata": {
        "id": "b46MB6PjE8dw"
      },
      "source": [
        "Now checking the pickup lattitude and longitude :"
      ]
    },
    {
      "cell_type": "code",
      "metadata": {
        "colab": {
          "base_uri": "https://localhost:8080/"
        },
        "id": "gn8VCeZxE8dx",
        "outputId": "9e9bd4e7-afc4-450c-8758-bfe9c38656b1"
      },
      "source": [
        "#Lattitude----(-90 to 90)\n",
        "#Longitude----(-180 to 180)\n",
        "\n",
        "# we need to drop the rows having  pickup lattitute and longitute out the range mentioned above\n",
        "\n",
        "#train = train.drop(train[train['pickup_latitude']<-90])\n",
        "train[train['pickup_latitude']<-90]\n",
        "train[train['pickup_latitude']>90]"
      ],
      "execution_count": null,
      "outputs": [
        {
          "output_type": "execute_result",
          "data": {
            "text/html": [
              "<div>\n",
              "<style scoped>\n",
              "    .dataframe tbody tr th:only-of-type {\n",
              "        vertical-align: middle;\n",
              "    }\n",
              "\n",
              "    .dataframe tbody tr th {\n",
              "        vertical-align: top;\n",
              "    }\n",
              "\n",
              "    .dataframe thead th {\n",
              "        text-align: right;\n",
              "    }\n",
              "</style>\n",
              "<table border=\"1\" class=\"dataframe\">\n",
              "  <thead>\n",
              "    <tr style=\"text-align: right;\">\n",
              "      <th></th>\n",
              "      <th>fare_amount</th>\n",
              "      <th>pickup_datetime</th>\n",
              "      <th>pickup_longitude</th>\n",
              "      <th>pickup_latitude</th>\n",
              "      <th>dropoff_longitude</th>\n",
              "      <th>dropoff_latitude</th>\n",
              "      <th>passenger_count</th>\n",
              "      <th>year</th>\n",
              "      <th>Month</th>\n",
              "      <th>Date</th>\n",
              "      <th>Day</th>\n",
              "      <th>Hour</th>\n",
              "      <th>Minute</th>\n",
              "    </tr>\n",
              "  </thead>\n",
              "  <tbody>\n",
              "    <tr>\n",
              "      <th>5686</th>\n",
              "      <td>3.3</td>\n",
              "      <td>2011-07-30 11:15:00</td>\n",
              "      <td>-73.947235</td>\n",
              "      <td>401.083332</td>\n",
              "      <td>-73.951392</td>\n",
              "      <td>40.778927</td>\n",
              "      <td>1.0</td>\n",
              "      <td>2011.0</td>\n",
              "      <td>7.0</td>\n",
              "      <td>30.0</td>\n",
              "      <td>5.0</td>\n",
              "      <td>11.0</td>\n",
              "      <td>15.0</td>\n",
              "    </tr>\n",
              "  </tbody>\n",
              "</table>\n",
              "</div>"
            ],
            "text/plain": [
              "      fare_amount     pickup_datetime  pickup_longitude  ...  Day  Hour  Minute\n",
              "5686          3.3 2011-07-30 11:15:00        -73.947235  ...  5.0  11.0    15.0\n",
              "\n",
              "[1 rows x 13 columns]"
            ]
          },
          "metadata": {
            "tags": []
          },
          "execution_count": 37
        }
      ]
    },
    {
      "cell_type": "code",
      "metadata": {
        "id": "Z2eMyoduE8dy"
      },
      "source": [
        "#Hence dropping one value of >90\n",
        "train = train.drop((train[train['pickup_latitude']<-90]).index, axis=0)\n",
        "train = train.drop((train[train['pickup_latitude']>90]).index, axis=0)\n"
      ],
      "execution_count": null,
      "outputs": []
    },
    {
      "cell_type": "code",
      "metadata": {
        "colab": {
          "base_uri": "https://localhost:8080/"
        },
        "id": "o6TjtnktE8dy",
        "outputId": "f4937272-bc82-43e5-c481-cb1b62e188c2"
      },
      "source": [
        "train[train['pickup_longitude']<-180]\n",
        "train[train['pickup_longitude']>180]"
      ],
      "execution_count": null,
      "outputs": [
        {
          "output_type": "execute_result",
          "data": {
            "text/html": [
              "<div>\n",
              "<style scoped>\n",
              "    .dataframe tbody tr th:only-of-type {\n",
              "        vertical-align: middle;\n",
              "    }\n",
              "\n",
              "    .dataframe tbody tr th {\n",
              "        vertical-align: top;\n",
              "    }\n",
              "\n",
              "    .dataframe thead th {\n",
              "        text-align: right;\n",
              "    }\n",
              "</style>\n",
              "<table border=\"1\" class=\"dataframe\">\n",
              "  <thead>\n",
              "    <tr style=\"text-align: right;\">\n",
              "      <th></th>\n",
              "      <th>fare_amount</th>\n",
              "      <th>pickup_datetime</th>\n",
              "      <th>pickup_longitude</th>\n",
              "      <th>pickup_latitude</th>\n",
              "      <th>dropoff_longitude</th>\n",
              "      <th>dropoff_latitude</th>\n",
              "      <th>passenger_count</th>\n",
              "      <th>year</th>\n",
              "      <th>Month</th>\n",
              "      <th>Date</th>\n",
              "      <th>Day</th>\n",
              "      <th>Hour</th>\n",
              "      <th>Minute</th>\n",
              "    </tr>\n",
              "  </thead>\n",
              "  <tbody>\n",
              "  </tbody>\n",
              "</table>\n",
              "</div>"
            ],
            "text/plain": [
              "Empty DataFrame\n",
              "Columns: [fare_amount, pickup_datetime, pickup_longitude, pickup_latitude, dropoff_longitude, dropoff_latitude, passenger_count, year, Month, Date, Day, Hour, Minute]\n",
              "Index: []"
            ]
          },
          "metadata": {
            "tags": []
          },
          "execution_count": 39
        }
      ]
    },
    {
      "cell_type": "code",
      "metadata": {
        "colab": {
          "base_uri": "https://localhost:8080/"
        },
        "id": "nc0ULhrrE8dz",
        "outputId": "853ae8ba-67a2-426d-a9ca-a59aa7435654"
      },
      "source": [
        "train[train['dropoff_latitude']<-90]\n",
        "train[train['dropoff_latitude']>90]"
      ],
      "execution_count": null,
      "outputs": [
        {
          "output_type": "execute_result",
          "data": {
            "text/html": [
              "<div>\n",
              "<style scoped>\n",
              "    .dataframe tbody tr th:only-of-type {\n",
              "        vertical-align: middle;\n",
              "    }\n",
              "\n",
              "    .dataframe tbody tr th {\n",
              "        vertical-align: top;\n",
              "    }\n",
              "\n",
              "    .dataframe thead th {\n",
              "        text-align: right;\n",
              "    }\n",
              "</style>\n",
              "<table border=\"1\" class=\"dataframe\">\n",
              "  <thead>\n",
              "    <tr style=\"text-align: right;\">\n",
              "      <th></th>\n",
              "      <th>fare_amount</th>\n",
              "      <th>pickup_datetime</th>\n",
              "      <th>pickup_longitude</th>\n",
              "      <th>pickup_latitude</th>\n",
              "      <th>dropoff_longitude</th>\n",
              "      <th>dropoff_latitude</th>\n",
              "      <th>passenger_count</th>\n",
              "      <th>year</th>\n",
              "      <th>Month</th>\n",
              "      <th>Date</th>\n",
              "      <th>Day</th>\n",
              "      <th>Hour</th>\n",
              "      <th>Minute</th>\n",
              "    </tr>\n",
              "  </thead>\n",
              "  <tbody>\n",
              "  </tbody>\n",
              "</table>\n",
              "</div>"
            ],
            "text/plain": [
              "Empty DataFrame\n",
              "Columns: [fare_amount, pickup_datetime, pickup_longitude, pickup_latitude, dropoff_longitude, dropoff_latitude, passenger_count, year, Month, Date, Day, Hour, Minute]\n",
              "Index: []"
            ]
          },
          "metadata": {
            "tags": []
          },
          "execution_count": 40
        }
      ]
    },
    {
      "cell_type": "code",
      "metadata": {
        "colab": {
          "base_uri": "https://localhost:8080/"
        },
        "id": "fb7opmArE8d0",
        "outputId": "8050af4b-b248-48b9-b4bc-3d434706756f"
      },
      "source": [
        "train[train['dropoff_longitude']<-180]\n",
        "train[train['dropoff_longitude']>180]"
      ],
      "execution_count": null,
      "outputs": [
        {
          "output_type": "execute_result",
          "data": {
            "text/html": [
              "<div>\n",
              "<style scoped>\n",
              "    .dataframe tbody tr th:only-of-type {\n",
              "        vertical-align: middle;\n",
              "    }\n",
              "\n",
              "    .dataframe tbody tr th {\n",
              "        vertical-align: top;\n",
              "    }\n",
              "\n",
              "    .dataframe thead th {\n",
              "        text-align: right;\n",
              "    }\n",
              "</style>\n",
              "<table border=\"1\" class=\"dataframe\">\n",
              "  <thead>\n",
              "    <tr style=\"text-align: right;\">\n",
              "      <th></th>\n",
              "      <th>fare_amount</th>\n",
              "      <th>pickup_datetime</th>\n",
              "      <th>pickup_longitude</th>\n",
              "      <th>pickup_latitude</th>\n",
              "      <th>dropoff_longitude</th>\n",
              "      <th>dropoff_latitude</th>\n",
              "      <th>passenger_count</th>\n",
              "      <th>year</th>\n",
              "      <th>Month</th>\n",
              "      <th>Date</th>\n",
              "      <th>Day</th>\n",
              "      <th>Hour</th>\n",
              "      <th>Minute</th>\n",
              "    </tr>\n",
              "  </thead>\n",
              "  <tbody>\n",
              "  </tbody>\n",
              "</table>\n",
              "</div>"
            ],
            "text/plain": [
              "Empty DataFrame\n",
              "Columns: [fare_amount, pickup_datetime, pickup_longitude, pickup_latitude, dropoff_longitude, dropoff_latitude, passenger_count, year, Month, Date, Day, Hour, Minute]\n",
              "Index: []"
            ]
          },
          "metadata": {
            "tags": []
          },
          "execution_count": 41
        }
      ]
    },
    {
      "cell_type": "code",
      "metadata": {
        "colab": {
          "base_uri": "https://localhost:8080/"
        },
        "id": "tz4q1BatE8d0",
        "outputId": "2406c595-b3dd-4639-f65a-0e70e46d5a3c"
      },
      "source": [
        "train.shape"
      ],
      "execution_count": null,
      "outputs": [
        {
          "output_type": "execute_result",
          "data": {
            "text/plain": [
              "(15901, 13)"
            ]
          },
          "metadata": {
            "tags": []
          },
          "execution_count": 42
        }
      ]
    },
    {
      "cell_type": "code",
      "metadata": {
        "colab": {
          "base_uri": "https://localhost:8080/"
        },
        "id": "FL8wd8PoE8d1",
        "outputId": "94e0e1eb-944f-4750-a6bc-f2aaa1fd42f2"
      },
      "source": [
        "train.isnull().sum()"
      ],
      "execution_count": null,
      "outputs": [
        {
          "output_type": "execute_result",
          "data": {
            "text/plain": [
              "fare_amount          0\n",
              "pickup_datetime      0\n",
              "pickup_longitude     0\n",
              "pickup_latitude      0\n",
              "dropoff_longitude    0\n",
              "dropoff_latitude     0\n",
              "passenger_count      0\n",
              "year                 0\n",
              "Month                0\n",
              "Date                 0\n",
              "Day                  0\n",
              "Hour                 0\n",
              "Minute               0\n",
              "dtype: int64"
            ]
          },
          "metadata": {
            "tags": []
          },
          "execution_count": 43
        }
      ]
    },
    {
      "cell_type": "code",
      "metadata": {
        "colab": {
          "base_uri": "https://localhost:8080/"
        },
        "id": "2gUrXkLQE8d1",
        "outputId": "296dd5c1-0cb9-429f-ee26-47eb0a855ea3"
      },
      "source": [
        "test.isnull().sum()"
      ],
      "execution_count": null,
      "outputs": [
        {
          "output_type": "execute_result",
          "data": {
            "text/plain": [
              "pickup_datetime      0\n",
              "pickup_longitude     0\n",
              "pickup_latitude      0\n",
              "dropoff_longitude    0\n",
              "dropoff_latitude     0\n",
              "passenger_count      0\n",
              "year                 0\n",
              "Month                0\n",
              "Date                 0\n",
              "Day                  0\n",
              "Hour                 0\n",
              "Minute               0\n",
              "dtype: int64"
            ]
          },
          "metadata": {
            "tags": []
          },
          "execution_count": 44
        }
      ]
    },
    {
      "cell_type": "markdown",
      "metadata": {
        "id": "wB5_ZXpQE8d2"
      },
      "source": [
        "### Now we have successfully cleared our both datasets. Thus proceeding for further operations:"
      ]
    },
    {
      "cell_type": "markdown",
      "metadata": {
        "id": "xnyq1D45E8d2"
      },
      "source": [
        "Calculating distance based on the given coordinates :\n"
      ]
    },
    {
      "cell_type": "code",
      "metadata": {
        "id": "uS9ftZQsE8d3"
      },
      "source": [
        "#As we know that we have given pickup longitute and latitude values and same for drop. \n",
        "#So we need to calculate the distance Using the haversine formula and we will create a new variable called distance\n",
        "from math import radians, cos, sin, asin, sqrt\n",
        "\n",
        "def haversine(a):\n",
        "    lon1=a[0]\n",
        "    lat1=a[1]\n",
        "    lon2=a[2]\n",
        "    lat2=a[3]\n",
        "    \"\"\"\n",
        "    Calculate the great circle distance between two points \n",
        "    on the earth (specified in decimal degrees)\n",
        "    \"\"\"\n",
        "    # convert decimal degrees to radians \n",
        "    lon1, lat1, lon2, lat2 = map(radians, [lon1, lat1, lon2, lat2])\n",
        "    \n",
        "    # haversine formula \n",
        "    dlon = lon2 - lon1 \n",
        "    dlat = lat2 - lat1 \n",
        "    a = sin(dlat/2)**2 + cos(lat1) * cos(lat2) * sin(dlon/2)**2\n",
        "    c =  2 * asin(sqrt(a))\n",
        "    # Radius of earth in kilometers is 6371\n",
        "    km = 6371* c\n",
        "    return km\n",
        "# 1min "
      ],
      "execution_count": null,
      "outputs": []
    },
    {
      "cell_type": "code",
      "metadata": {
        "id": "uStprtaBE8d3"
      },
      "source": [
        "train['distance'] = train[['pickup_longitude','pickup_latitude','dropoff_longitude','dropoff_latitude']].apply(haversine,axis=1)"
      ],
      "execution_count": null,
      "outputs": []
    },
    {
      "cell_type": "code",
      "metadata": {
        "id": "_B_h1M2lE8d4"
      },
      "source": [
        "test['distance'] = test[['pickup_longitude','pickup_latitude','dropoff_longitude','dropoff_latitude']].apply(haversine,axis=1)"
      ],
      "execution_count": null,
      "outputs": []
    },
    {
      "cell_type": "code",
      "metadata": {
        "colab": {
          "base_uri": "https://localhost:8080/"
        },
        "id": "XeBUEQlwE8d4",
        "outputId": "7f37e3db-8f39-430b-cb96-9d7ae0a12670"
      },
      "source": [
        "train.head()"
      ],
      "execution_count": null,
      "outputs": [
        {
          "output_type": "execute_result",
          "data": {
            "text/html": [
              "<div>\n",
              "<style scoped>\n",
              "    .dataframe tbody tr th:only-of-type {\n",
              "        vertical-align: middle;\n",
              "    }\n",
              "\n",
              "    .dataframe tbody tr th {\n",
              "        vertical-align: top;\n",
              "    }\n",
              "\n",
              "    .dataframe thead th {\n",
              "        text-align: right;\n",
              "    }\n",
              "</style>\n",
              "<table border=\"1\" class=\"dataframe\">\n",
              "  <thead>\n",
              "    <tr style=\"text-align: right;\">\n",
              "      <th></th>\n",
              "      <th>fare_amount</th>\n",
              "      <th>pickup_datetime</th>\n",
              "      <th>pickup_longitude</th>\n",
              "      <th>pickup_latitude</th>\n",
              "      <th>dropoff_longitude</th>\n",
              "      <th>dropoff_latitude</th>\n",
              "      <th>passenger_count</th>\n",
              "      <th>year</th>\n",
              "      <th>Month</th>\n",
              "      <th>Date</th>\n",
              "      <th>Day</th>\n",
              "      <th>Hour</th>\n",
              "      <th>Minute</th>\n",
              "      <th>distance</th>\n",
              "    </tr>\n",
              "  </thead>\n",
              "  <tbody>\n",
              "    <tr>\n",
              "      <th>0</th>\n",
              "      <td>4.5</td>\n",
              "      <td>2009-06-15 17:26:21</td>\n",
              "      <td>-73.844311</td>\n",
              "      <td>40.721319</td>\n",
              "      <td>-73.841610</td>\n",
              "      <td>40.712278</td>\n",
              "      <td>1.0</td>\n",
              "      <td>2009.0</td>\n",
              "      <td>6.0</td>\n",
              "      <td>15.0</td>\n",
              "      <td>0.0</td>\n",
              "      <td>17.0</td>\n",
              "      <td>26.0</td>\n",
              "      <td>1.030764</td>\n",
              "    </tr>\n",
              "    <tr>\n",
              "      <th>1</th>\n",
              "      <td>16.9</td>\n",
              "      <td>2010-01-05 16:52:16</td>\n",
              "      <td>-74.016048</td>\n",
              "      <td>40.711303</td>\n",
              "      <td>-73.979268</td>\n",
              "      <td>40.782004</td>\n",
              "      <td>1.0</td>\n",
              "      <td>2010.0</td>\n",
              "      <td>1.0</td>\n",
              "      <td>5.0</td>\n",
              "      <td>1.0</td>\n",
              "      <td>16.0</td>\n",
              "      <td>52.0</td>\n",
              "      <td>8.450134</td>\n",
              "    </tr>\n",
              "    <tr>\n",
              "      <th>2</th>\n",
              "      <td>5.7</td>\n",
              "      <td>2011-08-18 00:35:00</td>\n",
              "      <td>-73.982738</td>\n",
              "      <td>40.761270</td>\n",
              "      <td>-73.991242</td>\n",
              "      <td>40.750562</td>\n",
              "      <td>2.0</td>\n",
              "      <td>2011.0</td>\n",
              "      <td>8.0</td>\n",
              "      <td>18.0</td>\n",
              "      <td>3.0</td>\n",
              "      <td>0.0</td>\n",
              "      <td>35.0</td>\n",
              "      <td>1.389525</td>\n",
              "    </tr>\n",
              "    <tr>\n",
              "      <th>3</th>\n",
              "      <td>7.7</td>\n",
              "      <td>2012-04-21 04:30:42</td>\n",
              "      <td>-73.987130</td>\n",
              "      <td>40.733143</td>\n",
              "      <td>-73.991567</td>\n",
              "      <td>40.758092</td>\n",
              "      <td>1.0</td>\n",
              "      <td>2012.0</td>\n",
              "      <td>4.0</td>\n",
              "      <td>21.0</td>\n",
              "      <td>5.0</td>\n",
              "      <td>4.0</td>\n",
              "      <td>30.0</td>\n",
              "      <td>2.799270</td>\n",
              "    </tr>\n",
              "    <tr>\n",
              "      <th>4</th>\n",
              "      <td>5.3</td>\n",
              "      <td>2010-03-09 07:51:00</td>\n",
              "      <td>-73.968095</td>\n",
              "      <td>40.768008</td>\n",
              "      <td>-73.956655</td>\n",
              "      <td>40.783762</td>\n",
              "      <td>1.0</td>\n",
              "      <td>2010.0</td>\n",
              "      <td>3.0</td>\n",
              "      <td>9.0</td>\n",
              "      <td>1.0</td>\n",
              "      <td>7.0</td>\n",
              "      <td>51.0</td>\n",
              "      <td>1.999157</td>\n",
              "    </tr>\n",
              "  </tbody>\n",
              "</table>\n",
              "</div>"
            ],
            "text/plain": [
              "   fare_amount     pickup_datetime  pickup_longitude  ...  Hour  Minute  distance\n",
              "0          4.5 2009-06-15 17:26:21        -73.844311  ...  17.0    26.0  1.030764\n",
              "1         16.9 2010-01-05 16:52:16        -74.016048  ...  16.0    52.0  8.450134\n",
              "2          5.7 2011-08-18 00:35:00        -73.982738  ...   0.0    35.0  1.389525\n",
              "3          7.7 2012-04-21 04:30:42        -73.987130  ...   4.0    30.0  2.799270\n",
              "4          5.3 2010-03-09 07:51:00        -73.968095  ...   7.0    51.0  1.999157\n",
              "\n",
              "[5 rows x 14 columns]"
            ]
          },
          "metadata": {
            "tags": []
          },
          "execution_count": 48
        }
      ]
    },
    {
      "cell_type": "code",
      "metadata": {
        "colab": {
          "base_uri": "https://localhost:8080/"
        },
        "id": "u8iFXVuTE8d4",
        "outputId": "0dca60df-4919-47c4-9a56-0168f9da1b6e"
      },
      "source": [
        "test.head()"
      ],
      "execution_count": null,
      "outputs": [
        {
          "output_type": "execute_result",
          "data": {
            "text/html": [
              "<div>\n",
              "<style scoped>\n",
              "    .dataframe tbody tr th:only-of-type {\n",
              "        vertical-align: middle;\n",
              "    }\n",
              "\n",
              "    .dataframe tbody tr th {\n",
              "        vertical-align: top;\n",
              "    }\n",
              "\n",
              "    .dataframe thead th {\n",
              "        text-align: right;\n",
              "    }\n",
              "</style>\n",
              "<table border=\"1\" class=\"dataframe\">\n",
              "  <thead>\n",
              "    <tr style=\"text-align: right;\">\n",
              "      <th></th>\n",
              "      <th>pickup_datetime</th>\n",
              "      <th>pickup_longitude</th>\n",
              "      <th>pickup_latitude</th>\n",
              "      <th>dropoff_longitude</th>\n",
              "      <th>dropoff_latitude</th>\n",
              "      <th>passenger_count</th>\n",
              "      <th>year</th>\n",
              "      <th>Month</th>\n",
              "      <th>Date</th>\n",
              "      <th>Day</th>\n",
              "      <th>Hour</th>\n",
              "      <th>Minute</th>\n",
              "      <th>distance</th>\n",
              "    </tr>\n",
              "  </thead>\n",
              "  <tbody>\n",
              "    <tr>\n",
              "      <th>0</th>\n",
              "      <td>2015-01-27 13:08:24</td>\n",
              "      <td>-73.973320</td>\n",
              "      <td>40.763805</td>\n",
              "      <td>-73.981430</td>\n",
              "      <td>40.743835</td>\n",
              "      <td>1</td>\n",
              "      <td>2015</td>\n",
              "      <td>1</td>\n",
              "      <td>27</td>\n",
              "      <td>1</td>\n",
              "      <td>13</td>\n",
              "      <td>8</td>\n",
              "      <td>2.323259</td>\n",
              "    </tr>\n",
              "    <tr>\n",
              "      <th>1</th>\n",
              "      <td>2015-01-27 13:08:24</td>\n",
              "      <td>-73.986862</td>\n",
              "      <td>40.719383</td>\n",
              "      <td>-73.998886</td>\n",
              "      <td>40.739201</td>\n",
              "      <td>1</td>\n",
              "      <td>2015</td>\n",
              "      <td>1</td>\n",
              "      <td>27</td>\n",
              "      <td>1</td>\n",
              "      <td>13</td>\n",
              "      <td>8</td>\n",
              "      <td>2.425353</td>\n",
              "    </tr>\n",
              "    <tr>\n",
              "      <th>2</th>\n",
              "      <td>2011-10-08 11:53:44</td>\n",
              "      <td>-73.982524</td>\n",
              "      <td>40.751260</td>\n",
              "      <td>-73.979654</td>\n",
              "      <td>40.746139</td>\n",
              "      <td>1</td>\n",
              "      <td>2011</td>\n",
              "      <td>10</td>\n",
              "      <td>8</td>\n",
              "      <td>5</td>\n",
              "      <td>11</td>\n",
              "      <td>53</td>\n",
              "      <td>0.618628</td>\n",
              "    </tr>\n",
              "    <tr>\n",
              "      <th>3</th>\n",
              "      <td>2012-12-01 21:12:12</td>\n",
              "      <td>-73.981160</td>\n",
              "      <td>40.767807</td>\n",
              "      <td>-73.990448</td>\n",
              "      <td>40.751635</td>\n",
              "      <td>1</td>\n",
              "      <td>2012</td>\n",
              "      <td>12</td>\n",
              "      <td>1</td>\n",
              "      <td>5</td>\n",
              "      <td>21</td>\n",
              "      <td>12</td>\n",
              "      <td>1.961033</td>\n",
              "    </tr>\n",
              "    <tr>\n",
              "      <th>4</th>\n",
              "      <td>2012-12-01 21:12:12</td>\n",
              "      <td>-73.966046</td>\n",
              "      <td>40.789775</td>\n",
              "      <td>-73.988565</td>\n",
              "      <td>40.744427</td>\n",
              "      <td>1</td>\n",
              "      <td>2012</td>\n",
              "      <td>12</td>\n",
              "      <td>1</td>\n",
              "      <td>5</td>\n",
              "      <td>21</td>\n",
              "      <td>12</td>\n",
              "      <td>5.387301</td>\n",
              "    </tr>\n",
              "  </tbody>\n",
              "</table>\n",
              "</div>"
            ],
            "text/plain": [
              "      pickup_datetime  pickup_longitude  ...  Minute  distance\n",
              "0 2015-01-27 13:08:24        -73.973320  ...       8  2.323259\n",
              "1 2015-01-27 13:08:24        -73.986862  ...       8  2.425353\n",
              "2 2011-10-08 11:53:44        -73.982524  ...      53  0.618628\n",
              "3 2012-12-01 21:12:12        -73.981160  ...      12  1.961033\n",
              "4 2012-12-01 21:12:12        -73.966046  ...      12  5.387301\n",
              "\n",
              "[5 rows x 13 columns]"
            ]
          },
          "metadata": {
            "tags": []
          },
          "execution_count": 49
        }
      ]
    },
    {
      "cell_type": "code",
      "metadata": {
        "colab": {
          "base_uri": "https://localhost:8080/"
        },
        "id": "055efzMxE8d5",
        "outputId": "8d9b28c2-cdee-43af-9f69-2f5f27680520"
      },
      "source": [
        "train.nunique()"
      ],
      "execution_count": null,
      "outputs": [
        {
          "output_type": "execute_result",
          "data": {
            "text/plain": [
              "fare_amount            459\n",
              "pickup_datetime      15856\n",
              "pickup_longitude     13672\n",
              "pickup_latitude      14110\n",
              "dropoff_longitude    13763\n",
              "dropoff_latitude     14136\n",
              "passenger_count          7\n",
              "year                     7\n",
              "Month                   12\n",
              "Date                    31\n",
              "Day                      7\n",
              "Hour                    24\n",
              "Minute                  60\n",
              "distance             15448\n",
              "dtype: int64"
            ]
          },
          "metadata": {
            "tags": []
          },
          "execution_count": 50
        }
      ]
    },
    {
      "cell_type": "code",
      "metadata": {
        "colab": {
          "base_uri": "https://localhost:8080/"
        },
        "id": "hDHZKSNfE8d5",
        "outputId": "664f43dd-f0e0-45aa-b8ed-0651aa8873f4"
      },
      "source": [
        "test.nunique()"
      ],
      "execution_count": null,
      "outputs": [
        {
          "output_type": "execute_result",
          "data": {
            "text/plain": [
              "pickup_datetime      1753\n",
              "pickup_longitude     9124\n",
              "pickup_latitude      9246\n",
              "dropoff_longitude    9141\n",
              "dropoff_latitude     9360\n",
              "passenger_count         6\n",
              "year                    7\n",
              "Month                  12\n",
              "Date                   31\n",
              "Day                     7\n",
              "Hour                   24\n",
              "Minute                 60\n",
              "distance             9830\n",
              "dtype: int64"
            ]
          },
          "metadata": {
            "tags": []
          },
          "execution_count": 51
        }
      ]
    },
    {
      "cell_type": "code",
      "metadata": {
        "colab": {
          "base_uri": "https://localhost:8080/"
        },
        "id": "3rwGZ_g3E8d6",
        "outputId": "06951836-b69d-475e-e83e-0cc472b78a5b"
      },
      "source": [
        "##finding decending order of fare to get to know whether the outliers are presented or not\n",
        "train['distance'].sort_values(ascending=False)"
      ],
      "execution_count": null,
      "outputs": [
        {
          "output_type": "execute_result",
          "data": {
            "text/plain": [
              "9147     8667.542104\n",
              "8647     8667.497512\n",
              "2397     8667.454421\n",
              "472      8667.304968\n",
              "11653    8666.701504\n",
              "            ...     \n",
              "13050       0.000000\n",
              "11593       0.000000\n",
              "2346        0.000000\n",
              "8331        0.000000\n",
              "1637        0.000000\n",
              "Name: distance, Length: 15901, dtype: float64"
            ]
          },
          "metadata": {
            "tags": []
          },
          "execution_count": 52
        }
      ]
    },
    {
      "cell_type": "markdown",
      "metadata": {
        "id": "vXnCvNONE8d6"
      },
      "source": [
        "As we can see that top 23 values in the distance variables are very high It means more than 8000 Kms distance they have travelled\n",
        "Also just after 23rd value from the top, the distance goes down to 127, which means these values are showing some outliers\n",
        "We need to remove these values\n"
      ]
    },
    {
      "cell_type": "code",
      "metadata": {
        "colab": {
          "base_uri": "https://localhost:8080/"
        },
        "id": "SpWNbL3sE8d7",
        "outputId": "08436dc3-611f-459b-84ca-7c083ff8262c"
      },
      "source": [
        "Counter(train['distance'] == 0)"
      ],
      "execution_count": null,
      "outputs": [
        {
          "output_type": "execute_result",
          "data": {
            "text/plain": [
              "Counter({False: 15447, True: 454})"
            ]
          },
          "metadata": {
            "tags": []
          },
          "execution_count": 53
        }
      ]
    },
    {
      "cell_type": "code",
      "metadata": {
        "colab": {
          "base_uri": "https://localhost:8080/"
        },
        "id": "m8xN2KqCE8d7",
        "outputId": "b8c774a0-491d-4a84-f704-a8a0de3d0370"
      },
      "source": [
        "Counter(test['distance'] == 0)"
      ],
      "execution_count": null,
      "outputs": [
        {
          "output_type": "execute_result",
          "data": {
            "text/plain": [
              "Counter({False: 9829, True: 85})"
            ]
          },
          "metadata": {
            "tags": []
          },
          "execution_count": 54
        }
      ]
    },
    {
      "cell_type": "code",
      "metadata": {
        "colab": {
          "base_uri": "https://localhost:8080/"
        },
        "id": "qlyAw-9SE8d8",
        "outputId": "b5fc95f9-5634-4742-be2c-779c41e68137"
      },
      "source": [
        "Counter(train['fare_amount'] == 0)"
      ],
      "execution_count": null,
      "outputs": [
        {
          "output_type": "execute_result",
          "data": {
            "text/plain": [
              "Counter({False: 15901})"
            ]
          },
          "metadata": {
            "tags": []
          },
          "execution_count": 55
        }
      ]
    },
    {
      "cell_type": "code",
      "metadata": {
        "colab": {
          "base_uri": "https://localhost:8080/"
        },
        "id": "-CAGoP-IE8d9",
        "outputId": "5873b96d-5d2a-4f00-e5ea-135c96970b2c"
      },
      "source": [
        "###we will remove the rows whose distance value is zero\n",
        "\n",
        "train = train.drop(train[train['distance']== 0].index, axis=0)\n",
        "train.shape"
      ],
      "execution_count": null,
      "outputs": [
        {
          "output_type": "execute_result",
          "data": {
            "text/plain": [
              "(15447, 14)"
            ]
          },
          "metadata": {
            "tags": []
          },
          "execution_count": 56
        }
      ]
    },
    {
      "cell_type": "code",
      "metadata": {
        "colab": {
          "base_uri": "https://localhost:8080/"
        },
        "id": "b54GFHoXE8d9",
        "outputId": "75148137-92c1-4c0b-ccc6-36c53772b22e"
      },
      "source": [
        "#we will remove the rows whose distance values is very high which is more than 129kms\n",
        "train = train.drop(train[train['distance'] > 130 ].index, axis=0)\n",
        "train.shape"
      ],
      "execution_count": null,
      "outputs": [
        {
          "output_type": "execute_result",
          "data": {
            "text/plain": [
              "(15424, 14)"
            ]
          },
          "metadata": {
            "tags": []
          },
          "execution_count": 57
        }
      ]
    },
    {
      "cell_type": "code",
      "metadata": {
        "colab": {
          "base_uri": "https://localhost:8080/"
        },
        "id": "BTvD-a73E8d_",
        "outputId": "bfbcd043-8e99-4aa6-c587-2333b6b1dac3"
      },
      "source": [
        "train.head()"
      ],
      "execution_count": null,
      "outputs": [
        {
          "output_type": "execute_result",
          "data": {
            "text/html": [
              "<div>\n",
              "<style scoped>\n",
              "    .dataframe tbody tr th:only-of-type {\n",
              "        vertical-align: middle;\n",
              "    }\n",
              "\n",
              "    .dataframe tbody tr th {\n",
              "        vertical-align: top;\n",
              "    }\n",
              "\n",
              "    .dataframe thead th {\n",
              "        text-align: right;\n",
              "    }\n",
              "</style>\n",
              "<table border=\"1\" class=\"dataframe\">\n",
              "  <thead>\n",
              "    <tr style=\"text-align: right;\">\n",
              "      <th></th>\n",
              "      <th>fare_amount</th>\n",
              "      <th>pickup_datetime</th>\n",
              "      <th>pickup_longitude</th>\n",
              "      <th>pickup_latitude</th>\n",
              "      <th>dropoff_longitude</th>\n",
              "      <th>dropoff_latitude</th>\n",
              "      <th>passenger_count</th>\n",
              "      <th>year</th>\n",
              "      <th>Month</th>\n",
              "      <th>Date</th>\n",
              "      <th>Day</th>\n",
              "      <th>Hour</th>\n",
              "      <th>Minute</th>\n",
              "      <th>distance</th>\n",
              "    </tr>\n",
              "  </thead>\n",
              "  <tbody>\n",
              "    <tr>\n",
              "      <th>0</th>\n",
              "      <td>4.5</td>\n",
              "      <td>2009-06-15 17:26:21</td>\n",
              "      <td>-73.844311</td>\n",
              "      <td>40.721319</td>\n",
              "      <td>-73.841610</td>\n",
              "      <td>40.712278</td>\n",
              "      <td>1.0</td>\n",
              "      <td>2009.0</td>\n",
              "      <td>6.0</td>\n",
              "      <td>15.0</td>\n",
              "      <td>0.0</td>\n",
              "      <td>17.0</td>\n",
              "      <td>26.0</td>\n",
              "      <td>1.030764</td>\n",
              "    </tr>\n",
              "    <tr>\n",
              "      <th>1</th>\n",
              "      <td>16.9</td>\n",
              "      <td>2010-01-05 16:52:16</td>\n",
              "      <td>-74.016048</td>\n",
              "      <td>40.711303</td>\n",
              "      <td>-73.979268</td>\n",
              "      <td>40.782004</td>\n",
              "      <td>1.0</td>\n",
              "      <td>2010.0</td>\n",
              "      <td>1.0</td>\n",
              "      <td>5.0</td>\n",
              "      <td>1.0</td>\n",
              "      <td>16.0</td>\n",
              "      <td>52.0</td>\n",
              "      <td>8.450134</td>\n",
              "    </tr>\n",
              "    <tr>\n",
              "      <th>2</th>\n",
              "      <td>5.7</td>\n",
              "      <td>2011-08-18 00:35:00</td>\n",
              "      <td>-73.982738</td>\n",
              "      <td>40.761270</td>\n",
              "      <td>-73.991242</td>\n",
              "      <td>40.750562</td>\n",
              "      <td>2.0</td>\n",
              "      <td>2011.0</td>\n",
              "      <td>8.0</td>\n",
              "      <td>18.0</td>\n",
              "      <td>3.0</td>\n",
              "      <td>0.0</td>\n",
              "      <td>35.0</td>\n",
              "      <td>1.389525</td>\n",
              "    </tr>\n",
              "    <tr>\n",
              "      <th>3</th>\n",
              "      <td>7.7</td>\n",
              "      <td>2012-04-21 04:30:42</td>\n",
              "      <td>-73.987130</td>\n",
              "      <td>40.733143</td>\n",
              "      <td>-73.991567</td>\n",
              "      <td>40.758092</td>\n",
              "      <td>1.0</td>\n",
              "      <td>2012.0</td>\n",
              "      <td>4.0</td>\n",
              "      <td>21.0</td>\n",
              "      <td>5.0</td>\n",
              "      <td>4.0</td>\n",
              "      <td>30.0</td>\n",
              "      <td>2.799270</td>\n",
              "    </tr>\n",
              "    <tr>\n",
              "      <th>4</th>\n",
              "      <td>5.3</td>\n",
              "      <td>2010-03-09 07:51:00</td>\n",
              "      <td>-73.968095</td>\n",
              "      <td>40.768008</td>\n",
              "      <td>-73.956655</td>\n",
              "      <td>40.783762</td>\n",
              "      <td>1.0</td>\n",
              "      <td>2010.0</td>\n",
              "      <td>3.0</td>\n",
              "      <td>9.0</td>\n",
              "      <td>1.0</td>\n",
              "      <td>7.0</td>\n",
              "      <td>51.0</td>\n",
              "      <td>1.999157</td>\n",
              "    </tr>\n",
              "  </tbody>\n",
              "</table>\n",
              "</div>"
            ],
            "text/plain": [
              "   fare_amount     pickup_datetime  pickup_longitude  ...  Hour  Minute  distance\n",
              "0          4.5 2009-06-15 17:26:21        -73.844311  ...  17.0    26.0  1.030764\n",
              "1         16.9 2010-01-05 16:52:16        -74.016048  ...  16.0    52.0  8.450134\n",
              "2          5.7 2011-08-18 00:35:00        -73.982738  ...   0.0    35.0  1.389525\n",
              "3          7.7 2012-04-21 04:30:42        -73.987130  ...   4.0    30.0  2.799270\n",
              "4          5.3 2010-03-09 07:51:00        -73.968095  ...   7.0    51.0  1.999157\n",
              "\n",
              "[5 rows x 14 columns]"
            ]
          },
          "metadata": {
            "tags": []
          },
          "execution_count": 58
        }
      ]
    },
    {
      "cell_type": "markdown",
      "metadata": {
        "id": "eKHIj2oGE8d_"
      },
      "source": [
        "Now we have splitted the pickup date time variable into different varaibles like month, year, day etc so now we dont need to have that pickup_Date variable now. Hence we can drop that, Also we have created distance using pickup and drop longitudes and latitudes so we will also drop pickup and drop longitudes and latitudes variables."
      ]
    },
    {
      "cell_type": "code",
      "metadata": {
        "id": "XA6H14NXE8eA"
      },
      "source": [
        "drop = ['pickup_datetime', 'pickup_longitude', 'pickup_latitude','dropoff_longitude', 'dropoff_latitude', 'Minute']\n",
        "train = train.drop(drop, axis = 1)"
      ],
      "execution_count": null,
      "outputs": []
    },
    {
      "cell_type": "code",
      "metadata": {
        "colab": {
          "base_uri": "https://localhost:8080/"
        },
        "id": "CtMjbMEoE8eB",
        "outputId": "04ac79df-e1d2-4ea0-92db-8c9205318567"
      },
      "source": [
        "train.head()"
      ],
      "execution_count": null,
      "outputs": [
        {
          "output_type": "execute_result",
          "data": {
            "text/html": [
              "<div>\n",
              "<style scoped>\n",
              "    .dataframe tbody tr th:only-of-type {\n",
              "        vertical-align: middle;\n",
              "    }\n",
              "\n",
              "    .dataframe tbody tr th {\n",
              "        vertical-align: top;\n",
              "    }\n",
              "\n",
              "    .dataframe thead th {\n",
              "        text-align: right;\n",
              "    }\n",
              "</style>\n",
              "<table border=\"1\" class=\"dataframe\">\n",
              "  <thead>\n",
              "    <tr style=\"text-align: right;\">\n",
              "      <th></th>\n",
              "      <th>fare_amount</th>\n",
              "      <th>passenger_count</th>\n",
              "      <th>year</th>\n",
              "      <th>Month</th>\n",
              "      <th>Date</th>\n",
              "      <th>Day</th>\n",
              "      <th>Hour</th>\n",
              "      <th>distance</th>\n",
              "    </tr>\n",
              "  </thead>\n",
              "  <tbody>\n",
              "    <tr>\n",
              "      <th>0</th>\n",
              "      <td>4.5</td>\n",
              "      <td>1.0</td>\n",
              "      <td>2009.0</td>\n",
              "      <td>6.0</td>\n",
              "      <td>15.0</td>\n",
              "      <td>0.0</td>\n",
              "      <td>17.0</td>\n",
              "      <td>1.030764</td>\n",
              "    </tr>\n",
              "    <tr>\n",
              "      <th>1</th>\n",
              "      <td>16.9</td>\n",
              "      <td>1.0</td>\n",
              "      <td>2010.0</td>\n",
              "      <td>1.0</td>\n",
              "      <td>5.0</td>\n",
              "      <td>1.0</td>\n",
              "      <td>16.0</td>\n",
              "      <td>8.450134</td>\n",
              "    </tr>\n",
              "    <tr>\n",
              "      <th>2</th>\n",
              "      <td>5.7</td>\n",
              "      <td>2.0</td>\n",
              "      <td>2011.0</td>\n",
              "      <td>8.0</td>\n",
              "      <td>18.0</td>\n",
              "      <td>3.0</td>\n",
              "      <td>0.0</td>\n",
              "      <td>1.389525</td>\n",
              "    </tr>\n",
              "    <tr>\n",
              "      <th>3</th>\n",
              "      <td>7.7</td>\n",
              "      <td>1.0</td>\n",
              "      <td>2012.0</td>\n",
              "      <td>4.0</td>\n",
              "      <td>21.0</td>\n",
              "      <td>5.0</td>\n",
              "      <td>4.0</td>\n",
              "      <td>2.799270</td>\n",
              "    </tr>\n",
              "    <tr>\n",
              "      <th>4</th>\n",
              "      <td>5.3</td>\n",
              "      <td>1.0</td>\n",
              "      <td>2010.0</td>\n",
              "      <td>3.0</td>\n",
              "      <td>9.0</td>\n",
              "      <td>1.0</td>\n",
              "      <td>7.0</td>\n",
              "      <td>1.999157</td>\n",
              "    </tr>\n",
              "  </tbody>\n",
              "</table>\n",
              "</div>"
            ],
            "text/plain": [
              "   fare_amount  passenger_count    year  Month  Date  Day  Hour  distance\n",
              "0          4.5              1.0  2009.0    6.0  15.0  0.0  17.0  1.030764\n",
              "1         16.9              1.0  2010.0    1.0   5.0  1.0  16.0  8.450134\n",
              "2          5.7              2.0  2011.0    8.0  18.0  3.0   0.0  1.389525\n",
              "3          7.7              1.0  2012.0    4.0  21.0  5.0   4.0  2.799270\n",
              "4          5.3              1.0  2010.0    3.0   9.0  1.0   7.0  1.999157"
            ]
          },
          "metadata": {
            "tags": []
          },
          "execution_count": 60
        }
      ]
    },
    {
      "cell_type": "code",
      "metadata": {
        "id": "1ETrVTZPE8eC"
      },
      "source": [
        "train['passenger_count'] = train['passenger_count'].astype('int64')\n",
        "train['year'] = train['year'].astype('int64')\n",
        "train['Month'] = train['Month'].astype('int64')\n",
        "train['Date'] = train['Date'].astype('int64')\n",
        "train['Day'] = train['Day'].astype('int64')\n",
        "train['Hour'] = train['Hour'].astype('int64')"
      ],
      "execution_count": null,
      "outputs": []
    },
    {
      "cell_type": "code",
      "metadata": {
        "colab": {
          "base_uri": "https://localhost:8080/"
        },
        "id": "KoAGq9u6E8eC",
        "outputId": "6a138dca-cee3-42b5-efd5-b31d2faea8ce"
      },
      "source": [
        "train.dtypes"
      ],
      "execution_count": null,
      "outputs": [
        {
          "output_type": "execute_result",
          "data": {
            "text/plain": [
              "fare_amount        float64\n",
              "passenger_count      int64\n",
              "year                 int64\n",
              "Month                int64\n",
              "Date                 int64\n",
              "Day                  int64\n",
              "Hour                 int64\n",
              "distance           float64\n",
              "dtype: object"
            ]
          },
          "metadata": {
            "tags": []
          },
          "execution_count": 62
        }
      ]
    },
    {
      "cell_type": "code",
      "metadata": {
        "id": "Z1fEFikxE8eD"
      },
      "source": [
        "drop_test = ['pickup_datetime', 'pickup_longitude', 'pickup_latitude','dropoff_longitude', 'dropoff_latitude', 'Minute']\n",
        "test = test.drop(drop_test, axis = 1)"
      ],
      "execution_count": null,
      "outputs": []
    },
    {
      "cell_type": "code",
      "metadata": {
        "colab": {
          "base_uri": "https://localhost:8080/"
        },
        "id": "0ejP7Q1sE8eD",
        "outputId": "c506fb26-d1a6-46b7-9e43-8ebbffc70fb6"
      },
      "source": [
        "test.head()"
      ],
      "execution_count": null,
      "outputs": [
        {
          "output_type": "execute_result",
          "data": {
            "text/html": [
              "<div>\n",
              "<style scoped>\n",
              "    .dataframe tbody tr th:only-of-type {\n",
              "        vertical-align: middle;\n",
              "    }\n",
              "\n",
              "    .dataframe tbody tr th {\n",
              "        vertical-align: top;\n",
              "    }\n",
              "\n",
              "    .dataframe thead th {\n",
              "        text-align: right;\n",
              "    }\n",
              "</style>\n",
              "<table border=\"1\" class=\"dataframe\">\n",
              "  <thead>\n",
              "    <tr style=\"text-align: right;\">\n",
              "      <th></th>\n",
              "      <th>passenger_count</th>\n",
              "      <th>year</th>\n",
              "      <th>Month</th>\n",
              "      <th>Date</th>\n",
              "      <th>Day</th>\n",
              "      <th>Hour</th>\n",
              "      <th>distance</th>\n",
              "    </tr>\n",
              "  </thead>\n",
              "  <tbody>\n",
              "    <tr>\n",
              "      <th>0</th>\n",
              "      <td>1</td>\n",
              "      <td>2015</td>\n",
              "      <td>1</td>\n",
              "      <td>27</td>\n",
              "      <td>1</td>\n",
              "      <td>13</td>\n",
              "      <td>2.323259</td>\n",
              "    </tr>\n",
              "    <tr>\n",
              "      <th>1</th>\n",
              "      <td>1</td>\n",
              "      <td>2015</td>\n",
              "      <td>1</td>\n",
              "      <td>27</td>\n",
              "      <td>1</td>\n",
              "      <td>13</td>\n",
              "      <td>2.425353</td>\n",
              "    </tr>\n",
              "    <tr>\n",
              "      <th>2</th>\n",
              "      <td>1</td>\n",
              "      <td>2011</td>\n",
              "      <td>10</td>\n",
              "      <td>8</td>\n",
              "      <td>5</td>\n",
              "      <td>11</td>\n",
              "      <td>0.618628</td>\n",
              "    </tr>\n",
              "    <tr>\n",
              "      <th>3</th>\n",
              "      <td>1</td>\n",
              "      <td>2012</td>\n",
              "      <td>12</td>\n",
              "      <td>1</td>\n",
              "      <td>5</td>\n",
              "      <td>21</td>\n",
              "      <td>1.961033</td>\n",
              "    </tr>\n",
              "    <tr>\n",
              "      <th>4</th>\n",
              "      <td>1</td>\n",
              "      <td>2012</td>\n",
              "      <td>12</td>\n",
              "      <td>1</td>\n",
              "      <td>5</td>\n",
              "      <td>21</td>\n",
              "      <td>5.387301</td>\n",
              "    </tr>\n",
              "  </tbody>\n",
              "</table>\n",
              "</div>"
            ],
            "text/plain": [
              "   passenger_count  year  Month  Date  Day  Hour  distance\n",
              "0                1  2015      1    27    1    13  2.323259\n",
              "1                1  2015      1    27    1    13  2.425353\n",
              "2                1  2011     10     8    5    11  0.618628\n",
              "3                1  2012     12     1    5    21  1.961033\n",
              "4                1  2012     12     1    5    21  5.387301"
            ]
          },
          "metadata": {
            "tags": []
          },
          "execution_count": 64
        }
      ]
    },
    {
      "cell_type": "code",
      "metadata": {
        "colab": {
          "base_uri": "https://localhost:8080/"
        },
        "id": "1wg6uCtTE8eE",
        "outputId": "9eaa3834-e255-48f4-9520-c542195aaf45"
      },
      "source": [
        "test.dtypes"
      ],
      "execution_count": null,
      "outputs": [
        {
          "output_type": "execute_result",
          "data": {
            "text/plain": [
              "passenger_count      int64\n",
              "year                 int64\n",
              "Month                int64\n",
              "Date                 int64\n",
              "Day                  int64\n",
              "Hour                 int64\n",
              "distance           float64\n",
              "dtype: object"
            ]
          },
          "metadata": {
            "tags": []
          },
          "execution_count": 65
        }
      ]
    },
    {
      "cell_type": "markdown",
      "metadata": {
        "id": "IGd1K-nzE8eE"
      },
      "source": [
        "# Data Visualization :"
      ]
    },
    {
      "cell_type": "markdown",
      "metadata": {
        "id": "PslV-2XSE8eF"
      },
      "source": [
        "Visualization of following:\n",
        "\n",
        "1. Number of Passengers effects the the fare\n",
        "2. Pickup date and time effects the fare\n",
        "3. Day of the week does effects the fare\n",
        "4. Distance effects the fare"
      ]
    },
    {
      "cell_type": "code",
      "metadata": {
        "colab": {
          "base_uri": "https://localhost:8080/",
          "height": 460
        },
        "id": "s6oyMpvHE8eF",
        "outputId": "3a680974-4e3b-48de-9c14-c05667622a62"
      },
      "source": [
        "# Count plot on passenger count\n",
        "plt.figure(figsize=(15,7))\n",
        "sns.countplot(x=\"passenger_count\", data=train)"
      ],
      "execution_count": null,
      "outputs": [
        {
          "output_type": "execute_result",
          "data": {
            "text/plain": [
              "<matplotlib.axes._subplots.AxesSubplot at 0x7f39693d7610>"
            ]
          },
          "metadata": {
            "tags": []
          },
          "execution_count": 66
        },
        {
          "output_type": "display_data",
          "data": {
            "image/png": "[encoded data removed]",
            "text/plain": [
              "<Figure size 1080x504 with 1 Axes>"
            ]
          },
          "metadata": {
            "tags": [],
            "needs_background": "light"
          }
        }
      ]
    },
    {
      "cell_type": "code",
      "metadata": {
        "colab": {
          "base_uri": "https://localhost:8080/",
          "height": 442
        },
        "id": "hm9Dgqi8E8eG",
        "outputId": "d5a3b135-5b9c-408a-f3c7-63425e11510b"
      },
      "source": [
        "#Relationship beetween number of passengers and Fare\n",
        "\n",
        "plt.figure(figsize=(15,7))\n",
        "plt.scatter(x=train['passenger_count'], y=train['fare_amount'], s=10)\n",
        "plt.xlabel('No. of Passengers')\n",
        "plt.ylabel('Fare')\n",
        "plt.show()"
      ],
      "execution_count": null,
      "outputs": [
        {
          "output_type": "display_data",
          "data": {
            "image/png": "[encoded data removed]",
            "text/plain": [
              "<Figure size 1080x504 with 1 Axes>"
            ]
          },
          "metadata": {
            "tags": [],
            "needs_background": "light"
          }
        }
      ]
    },
    {
      "cell_type": "markdown",
      "metadata": {
        "id": "Uc7Sy6UQE8eG"
      },
      "source": [
        "### Observations :\n",
        "   By seeing the above plots we can easily conclude that:\n",
        "1. single travelling passengers are most frequent travellers.\n",
        "2. At the sametime we can also conclude that highest Fare are coming from single & double travelling passengers."
      ]
    },
    {
      "cell_type": "code",
      "metadata": {
        "colab": {
          "base_uri": "https://localhost:8080/"
        },
        "id": "55ef5ufAE8eH",
        "outputId": "223bb69d-84dd-4ff2-d9b7-bc8ca3af6782"
      },
      "source": [
        "#Relationship between date and Fare\n",
        "plt.figure(figsize=(15,7))\n",
        "plt.scatter(x=train['Date'], y=train['fare_amount'], s=10)\n",
        "plt.xlabel('Date')\n",
        "plt.ylabel('Fare')\n",
        "plt.show()"
      ],
      "execution_count": null,
      "outputs": [
        {
          "output_type": "display_data",
          "data": {
            "image/png": "[encoded data removed]",
            "text/plain": [
              "<Figure size 1080x504 with 1 Axes>"
            ]
          },
          "metadata": {
            "tags": [],
            "needs_background": "light"
          }
        }
      ]
    },
    {
      "cell_type": "code",
      "metadata": {
        "colab": {
          "base_uri": "https://localhost:8080/"
        },
        "id": "I4GdHL0uE8eH",
        "outputId": "7c616e8f-9850-405d-9132-8250ccdc348e"
      },
      "source": [
        "plt.figure(figsize=(15,7))\n",
        "train.groupby(train[\"Hour\"])['Hour'].count().plot(kind=\"bar\")\n",
        "plt.show()"
      ],
      "execution_count": null,
      "outputs": [
        {
          "output_type": "display_data",
          "data": {
            "image/png": "[encoded data removed]",
            "text/plain": [
              "<Figure size 1080x504 with 1 Axes>"
            ]
          },
          "metadata": {
            "tags": [],
            "needs_background": "light"
          }
        }
      ]
    },
    {
      "cell_type": "markdown",
      "metadata": {
        "id": "ASmB8JoCE8eI"
      },
      "source": [
        "Lowest cabs at 5 AM and highest at and around 7 PM i.e the office rush hours"
      ]
    },
    {
      "cell_type": "code",
      "metadata": {
        "colab": {
          "base_uri": "https://localhost:8080/"
        },
        "id": "6-ATQ0brE8eI",
        "outputId": "c96f76c8-f263-43ef-8dfe-a3d74d3782a0"
      },
      "source": [
        "#Relationship between Time and Fare\n",
        "plt.figure(figsize=(15,7))\n",
        "plt.scatter(x=train['Hour'], y=train['fare_amount'], s=10)\n",
        "plt.xlabel('Hour')\n",
        "plt.ylabel('Fare')\n",
        "plt.show()"
      ],
      "execution_count": null,
      "outputs": [
        {
          "output_type": "display_data",
          "data": {
            "image/png": "[encoded data removed]",
            "text/plain": [
              "<Figure size 1080x504 with 1 Axes>"
            ]
          },
          "metadata": {
            "tags": [],
            "needs_background": "light"
          }
        }
      ]
    },
    {
      "cell_type": "markdown",
      "metadata": {
        "id": "npxR-TuzE8eJ"
      },
      "source": [
        "From the above plot We can observe that the cabs taken at 7 am and 23 Pm are the costliest. \n",
        "Hence we can assume that cabs taken early in morning and late at night are costliest\n"
      ]
    },
    {
      "cell_type": "code",
      "metadata": {
        "colab": {
          "base_uri": "https://localhost:8080/"
        },
        "id": "mSoTZtz2E8eJ",
        "outputId": "8a04ca79-fbe4-40d8-8846-ccf8e451ebc6"
      },
      "source": [
        "#impact of Day on the number of cab rides\n",
        "plt.figure(figsize=(15,7))\n",
        "sns.countplot(x=\"Day\", data=train)"
      ],
      "execution_count": null,
      "outputs": [
        {
          "output_type": "execute_result",
          "data": {
            "text/plain": [
              "<matplotlib.axes._subplots.AxesSubplot at 0x7f3969323c90>"
            ]
          },
          "metadata": {
            "tags": []
          },
          "execution_count": 71
        },
        {
          "output_type": "display_data",
          "data": {
            "image/png": "[encoded data removed]",
            "text/plain": [
              "<Figure size 1080x504 with 1 Axes>"
            ]
          },
          "metadata": {
            "tags": [],
            "needs_background": "light"
          }
        }
      ]
    },
    {
      "cell_type": "markdown",
      "metadata": {
        "id": "sGIv9q7-E8eK"
      },
      "source": [
        "Observation :\n",
        "The day of the week does not seem to have much influence on the number of cabs ride"
      ]
    },
    {
      "cell_type": "code",
      "metadata": {
        "colab": {
          "base_uri": "https://localhost:8080/"
        },
        "id": "1sifRpe0E8eK",
        "outputId": "4d50d86a-d3db-463b-804b-3d8641a04062"
      },
      "source": [
        "#Relationships between day and Fare\n",
        "plt.figure(figsize=(15,7))\n",
        "plt.scatter(x=train['Day'], y=train['fare_amount'], s=10)\n",
        "plt.xlabel('Day')\n",
        "plt.ylabel('Fare')\n",
        "plt.show()"
      ],
      "execution_count": null,
      "outputs": [
        {
          "output_type": "display_data",
          "data": {
            "image/png": "[encoded data removed]",
            "text/plain": [
              "<Figure size 1080x504 with 1 Axes>"
            ]
          },
          "metadata": {
            "tags": [],
            "needs_background": "light"
          }
        }
      ]
    },
    {
      "cell_type": "markdown",
      "metadata": {
        "id": "S-7TdY5BE8eK"
      },
      "source": [
        "The highest fares seem to be on a Sunday, Monday and Thursday, and the low on Wednesday and Saturday. May be due to low demand of the cabs on saturdays the cab fare is low and high demand of cabs on sunday and monday shows the high fare prices"
      ]
    },
    {
      "cell_type": "code",
      "metadata": {
        "colab": {
          "base_uri": "https://localhost:8080/"
        },
        "id": "rdr7EfqeE8eL",
        "outputId": "6b6a8967-ca7c-4f06-c32f-41e0ac27b80e"
      },
      "source": [
        "#Relationship between distance and fare \n",
        "plt.figure(figsize=(15,7))\n",
        "plt.scatter(x = train['distance'],y = train['fare_amount'],c = \"g\")\n",
        "plt.xlabel('Distance')\n",
        "plt.ylabel('Fare')\n",
        "plt.show()"
      ],
      "execution_count": null,
      "outputs": [
        {
          "output_type": "display_data",
          "data": {
            "image/png": "[encoded data removed]",
            "text/plain": [
              "<Figure size 1080x504 with 1 Axes>"
            ]
          },
          "metadata": {
            "tags": [],
            "needs_background": "light"
          }
        }
      ]
    },
    {
      "cell_type": "markdown",
      "metadata": {
        "id": "p3Nw_jQoE8eL"
      },
      "source": [
        "It is quite obvious that distance will effect the amount of fare"
      ]
    },
    {
      "cell_type": "markdown",
      "metadata": {
        "id": "8c_n1zd6E8eM"
      },
      "source": [
        "# Feature Scaling :"
      ]
    },
    {
      "cell_type": "code",
      "metadata": {
        "colab": {
          "base_uri": "https://localhost:8080/",
          "height": 698
        },
        "id": "-VvdRf4XE8eM",
        "outputId": "f5b0fd8b-277d-46f5-f1fb-07484266e9ab"
      },
      "source": [
        "#Normality check of training data is uniformly distributed or not-\n",
        "\n",
        "for i in ['fare_amount', 'distance']:\n",
        "    print(i)\n",
        "    sns.distplot(train[i],bins='auto',color='green')\n",
        "    plt.title(\"Distribution for Variable \"+i)\n",
        "    plt.ylabel(\"Density\")\n",
        "    plt.show()"
      ],
      "execution_count": null,
      "outputs": [
        {
          "output_type": "stream",
          "text": [
            "fare_amount\n"
          ],
          "name": "stdout"
        },
        {
          "output_type": "stream",
          "text": [
            "/usr/local/lib/python3.7/dist-packages/seaborn/distributions.py:2557: FutureWarning: `distplot` is a deprecated function and will be removed in a future version. Please adapt your code to use either `displot` (a figure-level function with similar flexibility) or `histplot` (an axes-level function for histograms).\n",
            "  warnings.warn(msg, FutureWarning)\n"
          ],
          "name": "stderr"
        },
        {
          "output_type": "display_data",
          "data": {
            "image/png": "[encoded data removed]",
            "text/plain": [
              "<Figure size 432x288 with 1 Axes>"
            ]
          },
          "metadata": {
            "tags": [],
            "needs_background": "light"
          }
        },
        {
          "output_type": "stream",
          "text": [
            "distance\n"
          ],
          "name": "stdout"
        },
        {
          "output_type": "stream",
          "text": [
            "/usr/local/lib/python3.7/dist-packages/seaborn/distributions.py:2557: FutureWarning: `distplot` is a deprecated function and will be removed in a future version. Please adapt your code to use either `displot` (a figure-level function with similar flexibility) or `histplot` (an axes-level function for histograms).\n",
            "  warnings.warn(msg, FutureWarning)\n"
          ],
          "name": "stderr"
        },
        {
          "output_type": "display_data",
          "data": {
            "image/png": "[encoded data removed]",
            "text/plain": [
              "<Figure size 432x288 with 1 Axes>"
            ]
          },
          "metadata": {
            "tags": [],
            "needs_background": "light"
          }
        }
      ]
    },
    {
      "cell_type": "code",
      "metadata": {
        "id": "Bbu3Hr6uE8eN"
      },
      "source": [
        "#since skewness of target variable is high, apply log transform to reduce the skewness-\n",
        "train['fare_amount'] = np.log1p(train['fare_amount'])\n",
        "\n",
        "#since skewness of distance variable is high, apply log transform to reduce the skewness-\n",
        "train['distance'] = np.log1p(train['distance'])"
      ],
      "execution_count": null,
      "outputs": []
    },
    {
      "cell_type": "code",
      "metadata": {
        "colab": {
          "base_uri": "https://localhost:8080/",
          "height": 698
        },
        "id": "0u-tgYKGE8eN",
        "outputId": "b6324220-c3f1-4c27-c8d3-c9ab7b681e76"
      },
      "source": [
        "#Normality Re-check to check data is uniformly distributed or not after log transformartion\n",
        "\n",
        "for i in ['fare_amount', 'distance']:\n",
        "    print(i)\n",
        "    sns.distplot(train[i],bins='auto',color='green')\n",
        "    plt.title(\"Distribution for Variable \"+i)\n",
        "    plt.ylabel(\"Density\")\n",
        "    plt.show()"
      ],
      "execution_count": null,
      "outputs": [
        {
          "output_type": "stream",
          "text": [
            "fare_amount\n"
          ],
          "name": "stdout"
        },
        {
          "output_type": "stream",
          "text": [
            "/usr/local/lib/python3.7/dist-packages/seaborn/distributions.py:2557: FutureWarning: `distplot` is a deprecated function and will be removed in a future version. Please adapt your code to use either `displot` (a figure-level function with similar flexibility) or `histplot` (an axes-level function for histograms).\n",
            "  warnings.warn(msg, FutureWarning)\n"
          ],
          "name": "stderr"
        },
        {
          "output_type": "display_data",
          "data": {
            "image/png": "[encoded data removed]",
            "text/plain": [
              "<Figure size 432x288 with 1 Axes>"
            ]
          },
          "metadata": {
            "tags": [],
            "needs_background": "light"
          }
        },
        {
          "output_type": "stream",
          "text": [
            "distance\n"
          ],
          "name": "stdout"
        },
        {
          "output_type": "stream",
          "text": [
            "/usr/local/lib/python3.7/dist-packages/seaborn/distributions.py:2557: FutureWarning: `distplot` is a deprecated function and will be removed in a future version. Please adapt your code to use either `displot` (a figure-level function with similar flexibility) or `histplot` (an axes-level function for histograms).\n",
            "  warnings.warn(msg, FutureWarning)\n"
          ],
          "name": "stderr"
        },
        {
          "output_type": "display_data",
          "data": {
            "image/png": "[encoded data removed]",
            "text/plain": [
              "<Figure size 432x288 with 1 Axes>"
            ]
          },
          "metadata": {
            "tags": [],
            "needs_background": "light"
          }
        }
      ]
    },
    {
      "cell_type": "markdown",
      "metadata": {
        "id": "7psXKIKsE8eO"
      },
      "source": [
        "Here we can see bell shaped distribution. Hence our continous variables are now normally distributed, we will use not use any  Feature Scalling technique. i.e, Normalization or Standarization for our training data"
      ]
    },
    {
      "cell_type": "code",
      "metadata": {
        "colab": {
          "base_uri": "https://localhost:8080/",
          "height": 349
        },
        "id": "eXo92xTYE8eP",
        "outputId": "6928118c-af65-48e8-efaf-4a74b2a80827"
      },
      "source": [
        "#Normality check for test data is uniformly distributed or not-\n",
        "\n",
        "sns.distplot(test['distance'],bins='auto',color='green')\n",
        "plt.title(\"Distribution for Variable \"+i)\n",
        "plt.ylabel(\"Density\")\n",
        "plt.show()"
      ],
      "execution_count": null,
      "outputs": [
        {
          "output_type": "stream",
          "text": [
            "/usr/local/lib/python3.7/dist-packages/seaborn/distributions.py:2557: FutureWarning: `distplot` is a deprecated function and will be removed in a future version. Please adapt your code to use either `displot` (a figure-level function with similar flexibility) or `histplot` (an axes-level function for histograms).\n",
            "  warnings.warn(msg, FutureWarning)\n"
          ],
          "name": "stderr"
        },
        {
          "output_type": "display_data",
          "data": {
            "image/png": "[encoded data removed]",
            "text/plain": [
              "<Figure size 432x288 with 1 Axes>"
            ]
          },
          "metadata": {
            "tags": [],
            "needs_background": "light"
          }
        }
      ]
    },
    {
      "cell_type": "code",
      "metadata": {
        "id": "_gYs-kOfE8eP"
      },
      "source": [
        "#since skewness of distance variable is high, apply log transform to reduce the skewness-\n",
        "test['distance'] = np.log1p(test['distance'])"
      ],
      "execution_count": null,
      "outputs": []
    },
    {
      "cell_type": "code",
      "metadata": {
        "colab": {
          "base_uri": "https://localhost:8080/",
          "height": 349
        },
        "id": "LC0kxs0zE8eQ",
        "outputId": "c05c9ede-bab3-4fbf-8c7b-0bc341052c44"
      },
      "source": [
        "#rechecking the distribution for distance\n",
        "sns.distplot(test['distance'],bins='auto',color='green')\n",
        "plt.title(\"Distribution for Variable \"+i)\n",
        "plt.ylabel(\"Density\")\n",
        "plt.show()\n"
      ],
      "execution_count": null,
      "outputs": [
        {
          "output_type": "stream",
          "text": [
            "/usr/local/lib/python3.7/dist-packages/seaborn/distributions.py:2557: FutureWarning: `distplot` is a deprecated function and will be removed in a future version. Please adapt your code to use either `displot` (a figure-level function with similar flexibility) or `histplot` (an axes-level function for histograms).\n",
            "  warnings.warn(msg, FutureWarning)\n"
          ],
          "name": "stderr"
        },
        {
          "output_type": "display_data",
          "data": {
            "image/png": "[encoded data removed]",
            "text/plain": [
              "<Figure size 432x288 with 1 Axes>"
            ]
          },
          "metadata": {
            "tags": [],
            "needs_background": "light"
          }
        }
      ]
    },
    {
      "cell_type": "markdown",
      "metadata": {
        "id": "IqoxQ6T5E8eQ"
      },
      "source": [
        "As we can see a bell shaped distribution. Hence our continous variables are now normally distributed, we will use not use any  Feature Scalling technique. i.e, Normalization or Standarization for our test data"
      ]
    },
    {
      "cell_type": "markdown",
      "metadata": {
        "id": "XoSC3w8KE8eR"
      },
      "source": [
        "# Applying ML ALgorithms: "
      ]
    },
    {
      "cell_type": "code",
      "metadata": {
        "id": "b8BScoqyE8eR"
      },
      "source": [
        "##train test split for further modelling\n",
        "X_train, X_test, y_train, y_test = train_test_split( train.iloc[:, train.columns != 'fare_amount'], \n",
        "                         train.iloc[:, 0], test_size = 0.20, random_state = 1)"
      ],
      "execution_count": null,
      "outputs": []
    },
    {
      "cell_type": "code",
      "metadata": {
        "colab": {
          "base_uri": "https://localhost:8080/"
        },
        "id": "eGOT_5VVE8eR",
        "outputId": "6951b201-301b-458f-a6f1-785cefdc087c"
      },
      "source": [
        "print(X_train.shape)\n",
        "print(X_test.shape)"
      ],
      "execution_count": null,
      "outputs": [
        {
          "output_type": "stream",
          "text": [
            "(12339, 7)\n",
            "(3085, 7)\n"
          ],
          "name": "stdout"
        }
      ]
    },
    {
      "cell_type": "markdown",
      "metadata": {
        "id": "drVTVLIUE8eS"
      },
      "source": [
        "### Linear Regression Model :"
      ]
    },
    {
      "cell_type": "code",
      "metadata": {
        "id": "LfR3NPkHE8eS"
      },
      "source": [
        "# Building model on top of training dataset\n",
        "fit_LR = LinearRegression().fit(X_train , y_train)"
      ],
      "execution_count": null,
      "outputs": []
    },
    {
      "cell_type": "code",
      "metadata": {
        "id": "k-u5n2UmE8eT"
      },
      "source": [
        "#prediction on train data\n",
        "pred_train_LR = fit_LR.predict(X_train)"
      ],
      "execution_count": null,
      "outputs": []
    },
    {
      "cell_type": "code",
      "metadata": {
        "id": "YlILTFFBE8eT"
      },
      "source": [
        "#prediction on test data\n",
        "pred_test_LR = fit_LR.predict(X_test)"
      ],
      "execution_count": null,
      "outputs": []
    },
    {
      "cell_type": "code",
      "metadata": {
        "id": "jBsm6nswE8eT"
      },
      "source": [
        "##calculating RMSE for test data\n",
        "RMSE_test_LR = np.sqrt(mean_squared_error(y_test, pred_test_LR))\n",
        "\n",
        "##calculating RMSE for train data\n",
        "RMSE_train_LR= np.sqrt(mean_squared_error(y_train, pred_train_LR))"
      ],
      "execution_count": null,
      "outputs": []
    },
    {
      "cell_type": "code",
      "metadata": {
        "colab": {
          "base_uri": "https://localhost:8080/"
        },
        "id": "KZ-Sv99NE8eU",
        "outputId": "8445671c-d6f5-47ee-c474-0a63f5943c1b"
      },
      "source": [
        "print(\"Root Mean Squared Error For Training data = \"+str(RMSE_train_LR))\n",
        "print(\"Root Mean Squared Error For Test data = \"+str(RMSE_test_LR))"
      ],
      "execution_count": null,
      "outputs": [
        {
          "output_type": "stream",
          "text": [
            "Root Mean Squared Error For Training data = 0.2753110017967311\n",
            "Root Mean Squared Error For Test data = 0.24540661786977525\n"
          ],
          "name": "stdout"
        }
      ]
    },
    {
      "cell_type": "code",
      "metadata": {
        "colab": {
          "base_uri": "https://localhost:8080/"
        },
        "id": "lVvfDKSrE8eV",
        "outputId": "dd09aacc-fc7c-4961-d2a3-1be9f277659d"
      },
      "source": [
        "#calculate R^2 for train data\n",
        "from sklearn.metrics import r2_score\n",
        "r2_score(y_train, pred_train_LR)"
      ],
      "execution_count": null,
      "outputs": [
        {
          "output_type": "execute_result",
          "data": {
            "text/plain": [
              "0.7495502651880409"
            ]
          },
          "metadata": {
            "tags": []
          },
          "execution_count": 87
        }
      ]
    },
    {
      "cell_type": "code",
      "metadata": {
        "colab": {
          "base_uri": "https://localhost:8080/"
        },
        "id": "Jesd4PqvE8eV",
        "outputId": "ab6dc130-e3b6-4407-c535-2c714ee868e6"
      },
      "source": [
        "r2_score(y_test, pred_test_LR)"
      ],
      "execution_count": null,
      "outputs": [
        {
          "output_type": "execute_result",
          "data": {
            "text/plain": [
              "0.7827019104296636"
            ]
          },
          "metadata": {
            "tags": []
          },
          "execution_count": 88
        }
      ]
    },
    {
      "cell_type": "markdown",
      "metadata": {
        "id": "Vn0seyfHE8eW"
      },
      "source": [
        "### Decision tree Model : "
      ]
    },
    {
      "cell_type": "code",
      "metadata": {
        "id": "sHXtFhJ8E8eW"
      },
      "source": [
        "fit_DT = DecisionTreeRegressor(max_depth = 2).fit(X_train,y_train)"
      ],
      "execution_count": null,
      "outputs": []
    },
    {
      "cell_type": "code",
      "metadata": {
        "id": "PKDE0tUXE8eX"
      },
      "source": [
        "#prediction on train data\n",
        "pred_train_DT = fit_DT.predict(X_train)\n",
        "\n",
        "#prediction on test data\n",
        "pred_test_DT = fit_DT.predict(X_test)"
      ],
      "execution_count": null,
      "outputs": []
    },
    {
      "cell_type": "code",
      "metadata": {
        "id": "IfBvRYs0E8eX"
      },
      "source": [
        "##calculating RMSE for train data\n",
        "RMSE_train_DT = np.sqrt(mean_squared_error(y_train, pred_train_DT))\n",
        "\n",
        "##calculating RMSE for test data\n",
        "RMSE_test_DT = np.sqrt(mean_squared_error(y_test, pred_test_DT))"
      ],
      "execution_count": null,
      "outputs": []
    },
    {
      "cell_type": "code",
      "metadata": {
        "colab": {
          "base_uri": "https://localhost:8080/"
        },
        "id": "GRt-LiF_E8eX",
        "outputId": "07cca860-f43a-4665-f969-f6631932e21d"
      },
      "source": [
        "print(\"Root Mean Squared Error For Training data = \"+str(RMSE_train_DT))\n",
        "print(\"Root Mean Squared Error For Test data = \"+str(RMSE_test_DT))"
      ],
      "execution_count": null,
      "outputs": [
        {
          "output_type": "stream",
          "text": [
            "Root Mean Squared Error For Training data = 0.2996210902077019\n",
            "Root Mean Squared Error For Test data = 0.2867460617158615\n"
          ],
          "name": "stdout"
        }
      ]
    },
    {
      "cell_type": "code",
      "metadata": {
        "colab": {
          "base_uri": "https://localhost:8080/"
        },
        "id": "n0IYAuSAE8eY",
        "outputId": "1cc9dcbc-9742-4c94-d999-91ce637c7af8"
      },
      "source": [
        "## R^2 calculation for train data\n",
        "r2_score(y_train, pred_train_DT)"
      ],
      "execution_count": null,
      "outputs": [
        {
          "output_type": "execute_result",
          "data": {
            "text/plain": [
              "0.7033678616157003"
            ]
          },
          "metadata": {
            "tags": []
          },
          "execution_count": 93
        }
      ]
    },
    {
      "cell_type": "code",
      "metadata": {
        "colab": {
          "base_uri": "https://localhost:8080/"
        },
        "id": "fswcw1f6E8eY",
        "outputId": "df1f02b3-b186-4761-a2ea-cff95617791d"
      },
      "source": [
        "## R^2 calculation for test data\n",
        "r2_score(y_test, pred_test_DT)"
      ],
      "execution_count": null,
      "outputs": [
        {
          "output_type": "execute_result",
          "data": {
            "text/plain": [
              "0.7033268167661039"
            ]
          },
          "metadata": {
            "tags": []
          },
          "execution_count": 94
        }
      ]
    },
    {
      "cell_type": "markdown",
      "metadata": {
        "id": "Mrz4mRhzE8eZ"
      },
      "source": [
        "### Random Forest Model :"
      ]
    },
    {
      "cell_type": "code",
      "metadata": {
        "id": "AenNJHgWE8ea"
      },
      "source": [
        "fit_RF = RandomForestRegressor(n_estimators = 200).fit(X_train,y_train)"
      ],
      "execution_count": null,
      "outputs": []
    },
    {
      "cell_type": "code",
      "metadata": {
        "id": "fBs1-M7eE8ea"
      },
      "source": [
        "#prediction on train data\n",
        "pred_train_RF = fit_RF.predict(X_train)\n",
        "#prediction on test data\n",
        "pred_test_RF = fit_RF.predict(X_test)"
      ],
      "execution_count": null,
      "outputs": []
    },
    {
      "cell_type": "code",
      "metadata": {
        "id": "NNReT9XLE8ea"
      },
      "source": [
        "##calculating RMSE for train data\n",
        "RMSE_train_RF = np.sqrt(mean_squared_error(y_train, pred_train_RF))\n",
        "##calculating RMSE for test data\n",
        "RMSE_test_RF = np.sqrt(mean_squared_error(y_test, pred_test_RF))"
      ],
      "execution_count": null,
      "outputs": []
    },
    {
      "cell_type": "code",
      "metadata": {
        "colab": {
          "base_uri": "https://localhost:8080/"
        },
        "id": "iuZnZRUPE8eb",
        "outputId": "2d585f76-ae09-4575-ff34-b1a067426912"
      },
      "source": [
        "print(\"Root Mean Squared Error For Training data = \"+str(RMSE_train_RF))\n",
        "print(\"Root Mean Squared Error For Test data = \"+str(RMSE_test_RF))"
      ],
      "execution_count": null,
      "outputs": [
        {
          "output_type": "stream",
          "text": [
            "Root Mean Squared Error For Training data = 0.09530767981098177\n",
            "Root Mean Squared Error For Test data = 0.2349292302800312\n"
          ],
          "name": "stdout"
        }
      ]
    },
    {
      "cell_type": "code",
      "metadata": {
        "colab": {
          "base_uri": "https://localhost:8080/"
        },
        "id": "75XSTrdLE8eb",
        "outputId": "6621dd36-b769-4567-912b-2694a383d1c6"
      },
      "source": [
        "## calculate R^2 for train data\n",
        "\n",
        "r2_score(y_train, pred_train_RF)"
      ],
      "execution_count": null,
      "outputs": [
        {
          "output_type": "execute_result",
          "data": {
            "text/plain": [
              "0.969985629654863"
            ]
          },
          "metadata": {
            "tags": []
          },
          "execution_count": 99
        }
      ]
    },
    {
      "cell_type": "code",
      "metadata": {
        "colab": {
          "base_uri": "https://localhost:8080/"
        },
        "id": "W3WoKMWJE8ec",
        "outputId": "fc958daa-4ecf-49fa-b737-d87e357470e6"
      },
      "source": [
        "#calculate R^2 for test data\n",
        "r2_score(y_test, pred_test_RF)"
      ],
      "execution_count": null,
      "outputs": [
        {
          "output_type": "execute_result",
          "data": {
            "text/plain": [
              "0.8008604692747447"
            ]
          },
          "metadata": {
            "tags": []
          },
          "execution_count": 100
        }
      ]
    },
    {
      "cell_type": "markdown",
      "metadata": {
        "id": "HNZwHBUNE8ed"
      },
      "source": [
        "### Gradient Boosting :"
      ]
    },
    {
      "cell_type": "code",
      "metadata": {
        "id": "jBRCO0UvE8ed"
      },
      "source": [
        "fit_GB = GradientBoostingRegressor().fit(X_train, y_train)"
      ],
      "execution_count": null,
      "outputs": []
    },
    {
      "cell_type": "code",
      "metadata": {
        "id": "FOt38FMyE8ee"
      },
      "source": [
        "#prediction on train data\n",
        "pred_train_GB = fit_GB.predict(X_train)\n",
        "\n",
        "#prediction on test data\n",
        "pred_test_GB = fit_GB.predict(X_test)"
      ],
      "execution_count": null,
      "outputs": []
    },
    {
      "cell_type": "code",
      "metadata": {
        "id": "zFhcVNV5E8ee"
      },
      "source": [
        "##calculating RMSE for train data\n",
        "RMSE_train_GB = np.sqrt(mean_squared_error(y_train, pred_train_GB))\n",
        "##calculating RMSE for test data\n",
        "RMSE_test_GB = np.sqrt(mean_squared_error(y_test, pred_test_GB))"
      ],
      "execution_count": null,
      "outputs": []
    },
    {
      "cell_type": "code",
      "metadata": {
        "colab": {
          "base_uri": "https://localhost:8080/"
        },
        "id": "MPJVhL6gE8ee",
        "outputId": "93878de8-a720-4de7-9dc6-89f5d90b34dc"
      },
      "source": [
        "print(\"Root Mean Squared Error For Training data = \"+str(RMSE_train_GB))\n",
        "print(\"Root Mean Squared Error For Test data = \"+str(RMSE_test_GB))"
      ],
      "execution_count": null,
      "outputs": [
        {
          "output_type": "stream",
          "text": [
            "Root Mean Squared Error For Training data = 0.22754316149645537\n",
            "Root Mean Squared Error For Test data = 0.22750850443158646\n"
          ],
          "name": "stdout"
        }
      ]
    },
    {
      "cell_type": "code",
      "metadata": {
        "colab": {
          "base_uri": "https://localhost:8080/"
        },
        "id": "8_-qS1-PE8ef",
        "outputId": "b3ca56c8-4dd3-4f1b-d0b9-695a76a01d22"
      },
      "source": [
        "#calculate R^2 for test data\n",
        "r2_score(y_test, pred_test_GB)"
      ],
      "execution_count": null,
      "outputs": [
        {
          "output_type": "execute_result",
          "data": {
            "text/plain": [
              "0.8132422474796569"
            ]
          },
          "metadata": {
            "tags": []
          },
          "execution_count": 105
        }
      ]
    },
    {
      "cell_type": "code",
      "metadata": {
        "colab": {
          "base_uri": "https://localhost:8080/"
        },
        "id": "cRKQkRR6E8eg",
        "outputId": "3bd0c467-d67c-4923-d7ce-46b1e427ac8e"
      },
      "source": [
        "#calculate R^2 for train data\n",
        "r2_score(y_train, pred_train_GB)"
      ],
      "execution_count": null,
      "outputs": [
        {
          "output_type": "execute_result",
          "data": {
            "text/plain": [
              "0.8289193000175024"
            ]
          },
          "metadata": {
            "tags": []
          },
          "execution_count": 106
        }
      ]
    },
    {
      "cell_type": "markdown",
      "metadata": {
        "id": "UUe7qdyPE8eg"
      },
      "source": [
        "# Optimizing the results with parameters tuning :"
      ]
    },
    {
      "cell_type": "code",
      "metadata": {
        "colab": {
          "base_uri": "https://localhost:8080/"
        },
        "id": "gmxcIX56E8eg",
        "outputId": "9bd5eab6-0372-4dc7-fa33-b7477caab5c2"
      },
      "source": [
        "from sklearn.ensemble import RandomForestRegressor\n",
        "rf = RandomForestRegressor(random_state = 42)\n",
        "from pprint import pprint\n",
        "# Look at parameters used by our current forest\n",
        "print('Parameters currently in use:\\n')\n",
        "pprint(rf.get_params())"
      ],
      "execution_count": null,
      "outputs": [
        {
          "output_type": "stream",
          "text": [
            "Parameters currently in use:\n",
            "\n",
            "{'bootstrap': True,\n",
            " 'ccp_alpha': 0.0,\n",
            " 'criterion': 'mse',\n",
            " 'max_depth': None,\n",
            " 'max_features': 'auto',\n",
            " 'max_leaf_nodes': None,\n",
            " 'max_samples': None,\n",
            " 'min_impurity_decrease': 0.0,\n",
            " 'min_impurity_split': None,\n",
            " 'min_samples_leaf': 1,\n",
            " 'min_samples_split': 2,\n",
            " 'min_weight_fraction_leaf': 0.0,\n",
            " 'n_estimators': 100,\n",
            " 'n_jobs': None,\n",
            " 'oob_score': False,\n",
            " 'random_state': 42,\n",
            " 'verbose': 0,\n",
            " 'warm_start': False}\n"
          ],
          "name": "stdout"
        }
      ]
    },
    {
      "cell_type": "code",
      "metadata": {
        "id": "4GCCUXP4E8eh"
      },
      "source": [
        "##Random Hyperparameter Grid\n"
      ],
      "execution_count": null,
      "outputs": []
    },
    {
      "cell_type": "code",
      "metadata": {
        "id": "1KdzWHpOE8eh"
      },
      "source": [
        "from sklearn.model_selection import train_test_split,RandomizedSearchCV\n"
      ],
      "execution_count": null,
      "outputs": []
    },
    {
      "cell_type": "code",
      "metadata": {
        "colab": {
          "base_uri": "https://localhost:8080/"
        },
        "id": "Zd9iEWi2E8ei",
        "outputId": "8fc561eb-e009-48d9-d1e8-a2c5d297e0db"
      },
      "source": [
        "##Random Search CV on Random Forest Model\n",
        "\n",
        "RRF = RandomForestRegressor(random_state = 0)\n",
        "n_estimator = list(range(1,20,2))\n",
        "depth = list(range(1,100,2))\n",
        "\n",
        "# Create the random grid\n",
        "rand_grid = {'n_estimators': n_estimator,\n",
        "               'max_depth': depth}\n",
        "\n",
        "randomcv_rf = RandomizedSearchCV(RRF, param_distributions = rand_grid, n_iter = 5, cv = 5, random_state=0)\n",
        "randomcv_rf = randomcv_rf.fit(X_train,y_train)\n",
        "predictions_RRF = randomcv_rf.predict(X_test)\n",
        "\n",
        "view_best_params_RRF = randomcv_rf.best_params_\n",
        "\n",
        "best_model = randomcv_rf.best_estimator_\n",
        "\n",
        "predictions_RRF = best_model.predict(X_test)\n",
        "\n",
        "#R^2\n",
        "RRF_r2 = r2_score(y_test, predictions_RRF)\n",
        "#Calculating RMSE\n",
        "RRF_rmse = np.sqrt(mean_squared_error(y_test,predictions_RRF))\n",
        "\n",
        "print('Random Search CV Random Forest Regressor Model Performance:')\n",
        "print('Best Parameters = ',view_best_params_RRF)\n",
        "print('R-squared = {:0.2}.'.format(RRF_r2))\n",
        "print('RMSE = ',RRF_rmse)"
      ],
      "execution_count": null,
      "outputs": [
        {
          "output_type": "stream",
          "text": [
            "Random Search CV Random Forest Regressor Model Performance:\n",
            "Best Parameters =  {'n_estimators': 15, 'max_depth': 9}\n",
            "R-squared = 0.8.\n",
            "RMSE =  0.23731178885572907\n"
          ],
          "name": "stdout"
        }
      ]
    },
    {
      "cell_type": "code",
      "metadata": {
        "colab": {
          "base_uri": "https://localhost:8080/"
        },
        "id": "FFPMuaXPE8ei",
        "outputId": "3b2e9758-1ccb-4523-b179-63737576184a"
      },
      "source": [
        "gb = GradientBoostingRegressor(random_state = 42)\n",
        "from pprint import pprint\n",
        "# Look at parameters used by our current forest\n",
        "print('Parameters currently in use:\\n')\n",
        "pprint(gb.get_params())"
      ],
      "execution_count": null,
      "outputs": [
        {
          "output_type": "stream",
          "text": [
            "Parameters currently in use:\n",
            "\n",
            "{'alpha': 0.9,\n",
            " 'ccp_alpha': 0.0,\n",
            " 'criterion': 'friedman_mse',\n",
            " 'init': None,\n",
            " 'learning_rate': 0.1,\n",
            " 'loss': 'ls',\n",
            " 'max_depth': 3,\n",
            " 'max_features': None,\n",
            " 'max_leaf_nodes': None,\n",
            " 'min_impurity_decrease': 0.0,\n",
            " 'min_impurity_split': None,\n",
            " 'min_samples_leaf': 1,\n",
            " 'min_samples_split': 2,\n",
            " 'min_weight_fraction_leaf': 0.0,\n",
            " 'n_estimators': 100,\n",
            " 'n_iter_no_change': None,\n",
            " 'presort': 'deprecated',\n",
            " 'random_state': 42,\n",
            " 'subsample': 1.0,\n",
            " 'tol': 0.0001,\n",
            " 'validation_fraction': 0.1,\n",
            " 'verbose': 0,\n",
            " 'warm_start': False}\n"
          ],
          "name": "stdout"
        }
      ]
    },
    {
      "cell_type": "code",
      "metadata": {
        "colab": {
          "base_uri": "https://localhost:8080/"
        },
        "id": "azwe0OYxE8ej",
        "outputId": "c47fe107-2500-4bfb-dae2-77665227d345"
      },
      "source": [
        "##Random Search CV on gradient boosting model\n",
        "\n",
        "gb = GradientBoostingRegressor(random_state = 0)\n",
        "n_estimator = list(range(1,20,2))\n",
        "depth = list(range(1,100,2))\n",
        "\n",
        "# Create the random grid\n",
        "rand_grid = {'n_estimators': n_estimator,\n",
        "               'max_depth': depth}\n",
        "\n",
        "randomcv_gb = RandomizedSearchCV(gb, param_distributions = rand_grid, n_iter = 5, cv = 5, random_state=0)\n",
        "randomcv_gb = randomcv_gb.fit(X_train,y_train)\n",
        "predictions_gb = randomcv_gb.predict(X_test)\n",
        "\n",
        "view_best_params_gb = randomcv_gb.best_params_\n",
        "\n",
        "best_model = randomcv_gb.best_estimator_\n",
        "\n",
        "predictions_gb = best_model.predict(X_test)\n",
        "\n",
        "#R^2\n",
        "gb_r2 = r2_score(y_test, predictions_gb)\n",
        "#Calculating RMSE\n",
        "gb_rmse = np.sqrt(mean_squared_error(y_test,predictions_gb))\n",
        "\n",
        "print('Random Search CV Gradient Boosting Model Performance:')\n",
        "print('Best Parameters = ',view_best_params_gb)\n",
        "print('R-squared = {:0.2}.'.format(gb_r2))\n",
        "print('RMSE = ', gb_rmse)"
      ],
      "execution_count": null,
      "outputs": [
        {
          "output_type": "stream",
          "text": [
            "Random Search CV Gradient Boosting Model Performance:\n",
            "Best Parameters =  {'n_estimators': 15, 'max_depth': 9}\n",
            "R-squared = 0.77.\n",
            "RMSE =  0.2519242412237535\n"
          ],
          "name": "stdout"
        }
      ]
    },
    {
      "cell_type": "code",
      "metadata": {
        "colab": {
          "base_uri": "https://localhost:8080/"
        },
        "id": "LVPZa9S8E8ej",
        "outputId": "7f13dc91-8fc5-42d4-e0fd-da61bde7b509"
      },
      "source": [
        "from sklearn.model_selection import GridSearchCV    \n",
        "## Grid Search CV for random Forest model\n",
        "regr = RandomForestRegressor(random_state = 0)\n",
        "n_estimator = list(range(11,20,1))\n",
        "depth = list(range(5,15,2))\n",
        "\n",
        "# Create the grid\n",
        "grid_search = {'n_estimators': n_estimator,\n",
        "               'max_depth': depth}\n",
        "\n",
        "## Grid Search Cross-Validation with 5 fold CV\n",
        "gridcv_rf = GridSearchCV(regr, param_grid = grid_search, cv = 5)\n",
        "gridcv_rf = gridcv_rf.fit(X_train,y_train)\n",
        "view_best_params_GRF = gridcv_rf.best_params_\n",
        "\n",
        "#Apply model on test data\n",
        "predictions_GRF = gridcv_rf.predict(X_test)\n",
        "\n",
        "#R^2\n",
        "GRF_r2 = r2_score(y_test, predictions_GRF)\n",
        "#Calculating RMSE\n",
        "GRF_rmse = np.sqrt(mean_squared_error(y_test,predictions_GRF))\n",
        "\n",
        "print('Grid Search CV Random Forest Regressor Model Performance:')\n",
        "print('Best Parameters = ',view_best_params_GRF)\n",
        "print('R-squared = {:0.2}.'.format(GRF_r2))\n",
        "print('RMSE = ',(GRF_rmse))"
      ],
      "execution_count": null,
      "outputs": [
        {
          "output_type": "stream",
          "text": [
            "Grid Search CV Random Forest Regressor Model Performance:\n",
            "Best Parameters =  {'max_depth': 7, 'n_estimators': 18}\n",
            "R-squared = 0.8.\n",
            "RMSE =  0.23637990451376567\n"
          ],
          "name": "stdout"
        }
      ]
    },
    {
      "cell_type": "code",
      "metadata": {
        "colab": {
          "base_uri": "https://localhost:8080/"
        },
        "id": "e5GU7L-EE8ek",
        "outputId": "da864f7f-97e4-4677-ace2-248bdd7cbe7e"
      },
      "source": [
        "## Grid Search CV for gradinet boosting\n",
        "gb = GradientBoostingRegressor(random_state = 0)\n",
        "n_estimator = list(range(11,20,1))\n",
        "depth = list(range(5,15,2))\n",
        "\n",
        "# Create the grid\n",
        "grid_search = {'n_estimators': n_estimator,\n",
        "               'max_depth': depth}\n",
        "\n",
        "## Grid Search Cross-Validation with 5 fold CV\n",
        "gridcv_gb = GridSearchCV(gb, param_grid = grid_search, cv = 5)\n",
        "gridcv_gb = gridcv_gb.fit(X_train,y_train)\n",
        "view_best_params_Ggb = gridcv_gb.best_params_\n",
        "\n",
        "#Apply model on test data\n",
        "predictions_Ggb = gridcv_gb.predict(X_test)\n",
        "\n",
        "#R^2\n",
        "Ggb_r2 = r2_score(y_test, predictions_Ggb)\n",
        "#Calculating RMSE\n",
        "Ggb_rmse = np.sqrt(mean_squared_error(y_test,predictions_Ggb))\n",
        "\n",
        "print('Grid Search CV Gradient Boosting regression Model Performance:')\n",
        "print('Best Parameters = ',view_best_params_Ggb)\n",
        "print('R-squared = {:0.2}.'.format(Ggb_r2))\n",
        "print('RMSE = ',(Ggb_rmse))"
      ],
      "execution_count": null,
      "outputs": [
        {
          "output_type": "stream",
          "text": [
            "Grid Search CV Gradient Boosting regression Model Performance:\n",
            "Best Parameters =  {'max_depth': 5, 'n_estimators': 19}\n",
            "R-squared = 0.8.\n",
            "RMSE =  0.23724212611002213\n"
          ],
          "name": "stdout"
        }
      ]
    },
    {
      "cell_type": "markdown",
      "metadata": {
        "id": "VlUYEZ80E8el"
      },
      "source": [
        "# Prediction of fare from provided test dataset :"
      ]
    },
    {
      "cell_type": "markdown",
      "metadata": {
        "id": "U68QnTybE8el"
      },
      "source": [
        "We have already cleaned and processed our test dataset along with our training dataset. Hence we will be predicting using grid search CV for random forest model"
      ]
    },
    {
      "cell_type": "code",
      "metadata": {
        "id": "rOr2qNjsE8em"
      },
      "source": [
        "  \n",
        "## Grid Search CV for random Forest model\n",
        "regr = RandomForestRegressor(random_state = 0)\n",
        "n_estimator = list(range(11,20,1))\n",
        "depth = list(range(5,15,2))\n",
        "\n",
        "# Create the grid\n",
        "grid_search = {'n_estimators': n_estimator,\n",
        "               'max_depth': depth}\n",
        "\n",
        "## Grid Search Cross-Validation with 5 fold CV\n",
        "gridcv_rf = GridSearchCV(regr, param_grid = grid_search, cv = 5)\n",
        "gridcv_rf = gridcv_rf.fit(X_train,y_train)\n",
        "view_best_params_GRF = gridcv_rf.best_params_\n",
        "\n",
        "#Apply model on test data\n",
        "predictions_GRF_test_Df = gridcv_rf.predict(test)"
      ],
      "execution_count": null,
      "outputs": []
    },
    {
      "cell_type": "code",
      "metadata": {
        "colab": {
          "base_uri": "https://localhost:8080/"
        },
        "id": "ke-zXOJKE8em",
        "outputId": "f05ad6ac-e084-471d-85f9-636ec1aa21e9"
      },
      "source": [
        "predictions_GRF_test_Df"
      ],
      "execution_count": null,
      "outputs": [
        {
          "output_type": "execute_result",
          "data": {
            "text/plain": [
              "array([2.36760025, 2.39383317, 1.6809062 , ..., 4.01224357, 3.29348722,\n",
              "       2.0360277 ])"
            ]
          },
          "metadata": {
            "tags": []
          },
          "execution_count": 116
        }
      ]
    },
    {
      "cell_type": "code",
      "metadata": {
        "id": "FN9gzDYUE8en"
      },
      "source": [
        "test['Predicted_fare'] = predictions_GRF_test_Df"
      ],
      "execution_count": null,
      "outputs": []
    },
    {
      "cell_type": "code",
      "metadata": {
        "colab": {
          "base_uri": "https://localhost:8080/",
          "height": 202
        },
        "id": "vMm3LtwKE8en",
        "outputId": "6591e7f2-851a-495d-cda3-32428997422c"
      },
      "source": [
        "test.head()"
      ],
      "execution_count": null,
      "outputs": [
        {
          "output_type": "execute_result",
          "data": {
            "text/html": [
              "<div>\n",
              "<style scoped>\n",
              "    .dataframe tbody tr th:only-of-type {\n",
              "        vertical-align: middle;\n",
              "    }\n",
              "\n",
              "    .dataframe tbody tr th {\n",
              "        vertical-align: top;\n",
              "    }\n",
              "\n",
              "    .dataframe thead th {\n",
              "        text-align: right;\n",
              "    }\n",
              "</style>\n",
              "<table border=\"1\" class=\"dataframe\">\n",
              "  <thead>\n",
              "    <tr style=\"text-align: right;\">\n",
              "      <th></th>\n",
              "      <th>passenger_count</th>\n",
              "      <th>year</th>\n",
              "      <th>Month</th>\n",
              "      <th>Date</th>\n",
              "      <th>Day</th>\n",
              "      <th>Hour</th>\n",
              "      <th>distance</th>\n",
              "      <th>Predicted_fare</th>\n",
              "    </tr>\n",
              "  </thead>\n",
              "  <tbody>\n",
              "    <tr>\n",
              "      <th>0</th>\n",
              "      <td>1</td>\n",
              "      <td>2015</td>\n",
              "      <td>1</td>\n",
              "      <td>27</td>\n",
              "      <td>1</td>\n",
              "      <td>13</td>\n",
              "      <td>1.200946</td>\n",
              "      <td>2.367600</td>\n",
              "    </tr>\n",
              "    <tr>\n",
              "      <th>1</th>\n",
              "      <td>1</td>\n",
              "      <td>2015</td>\n",
              "      <td>1</td>\n",
              "      <td>27</td>\n",
              "      <td>1</td>\n",
              "      <td>13</td>\n",
              "      <td>1.231205</td>\n",
              "      <td>2.393833</td>\n",
              "    </tr>\n",
              "    <tr>\n",
              "      <th>2</th>\n",
              "      <td>1</td>\n",
              "      <td>2011</td>\n",
              "      <td>10</td>\n",
              "      <td>8</td>\n",
              "      <td>5</td>\n",
              "      <td>11</td>\n",
              "      <td>0.481579</td>\n",
              "      <td>1.680906</td>\n",
              "    </tr>\n",
              "    <tr>\n",
              "      <th>3</th>\n",
              "      <td>1</td>\n",
              "      <td>2012</td>\n",
              "      <td>12</td>\n",
              "      <td>1</td>\n",
              "      <td>5</td>\n",
              "      <td>21</td>\n",
              "      <td>1.085538</td>\n",
              "      <td>2.209257</td>\n",
              "    </tr>\n",
              "    <tr>\n",
              "      <th>4</th>\n",
              "      <td>1</td>\n",
              "      <td>2012</td>\n",
              "      <td>12</td>\n",
              "      <td>1</td>\n",
              "      <td>5</td>\n",
              "      <td>21</td>\n",
              "      <td>1.854312</td>\n",
              "      <td>2.815112</td>\n",
              "    </tr>\n",
              "  </tbody>\n",
              "</table>\n",
              "</div>"
            ],
            "text/plain": [
              "   passenger_count  year  Month  Date  Day  Hour  distance  Predicted_fare\n",
              "0                1  2015      1    27    1    13  1.200946        2.367600\n",
              "1                1  2015      1    27    1    13  1.231205        2.393833\n",
              "2                1  2011     10     8    5    11  0.481579        1.680906\n",
              "3                1  2012     12     1    5    21  1.085538        2.209257\n",
              "4                1  2012     12     1    5    21  1.854312        2.815112"
            ]
          },
          "metadata": {
            "tags": []
          },
          "execution_count": 118
        }
      ]
    },
    {
      "cell_type": "code",
      "metadata": {
        "id": "ezaDtjb7E8en"
      },
      "source": [
        "test.to_csv('test.csv')"
      ],
      "execution_count": null,
      "outputs": []
    }
  ]
}